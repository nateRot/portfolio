{
  "nbformat": 4,
  "nbformat_minor": 0,
  "metadata": {
    "colab": {
      "name": "ml_lab_part_1.ipynb",
      "provenance": [],
      "collapsed_sections": []
    },
    "kernelspec": {
      "display_name": "Python 3",
      "language": "python",
      "name": "python3"
    },
    "language_info": {
      "codemirror_mode": {
        "name": "ipython",
        "version": 3
      },
      "file_extension": ".py",
      "mimetype": "text/x-python",
      "name": "python",
      "nbconvert_exporter": "python",
      "pygments_lexer": "ipython3",
      "version": "3.7.6"
    }
  },
  "cells": [
    {
      "cell_type": "markdown",
      "metadata": {
        "colab_type": "text",
        "id": "keTS37LVHtIe"
      },
      "source": [
        "# <img src=\"https://img.icons8.com/dusk/64/000000/mind-map.png\" style=\"height:50px;display:inline\"> EE 044165/6 - Technion - Intro to Machine Learning Lab\n",
        "\n",
        "## Part 1 - Loading the Data, Pre-Processing and Naive Bayes\n",
        "\n",
        "### <img src=\"https://img.icons8.com/bubbles/50/000000/checklist.png\" style=\"height:50px;display:inline\"> Agenda\n",
        "\n",
        "* Loading the Data\n",
        "* Data Representation\n",
        "* Train-Test Separation\n",
        "* Naive Bayes\n",
        "\n",
        "#### Notes\n",
        "* To run a code block, select it (with mouse) and press Ctrl + Enter to run it or Shift + Enter to run it and move on to the next block.\n",
        "* To get description of functions and classes, run `help(name_of_function)`.\n",
        "* To display lines in the code block, select the block, press ESC and then 'L'."
      ]
    },
    {
      "cell_type": "code",
      "metadata": {
        "colab_type": "code",
        "id": "6zv7OZDsHtIh",
        "pycharm": {
          "is_executing": false
        },
        "colab": {}
      },
      "source": [
        "# imports for the lab\n",
        "import numpy as np\n",
        "import pandas as pd\n",
        "from scipy.sparse import csr_matrix\n",
        "import matplotlib.pyplot as plt\n",
        "from helper_functions import email_pipeline\n",
        "from tqdm import tqdm"
      ],
      "execution_count": 315,
      "outputs": []
    },
    {
      "cell_type": "markdown",
      "metadata": {
        "colab_type": "text",
        "id": "dhJVIYlVHtIm"
      },
      "source": [
        "### <img src=\"https://img.icons8.com/dusk/64/000000/handshake.png\" style=\"height:50px;display:inline\"> Get to Know the Data\n",
        "The data consists of 3,500 real e-mails from Spam Assassing. We will use `pandas` to load and read the data. Then, we will take a look at a sample of the data."
      ]
    },
    {
      "cell_type": "code",
      "metadata": {
        "colab_type": "code",
        "id": "PjXYCshRHtIn",
        "pycharm": {
          "is_executing": false
        },
        "colab": {
          "base_uri": "https://localhost:8080/",
          "height": 565
        },
        "outputId": "00d66b09-29b1-4964-9fe4-b4bbb606f6e8"
      },
      "source": [
        "# load the data\n",
        "email_data = pd.read_csv('./email_data.csv')\n",
        "print(\"number of samples: \", len(email_data))\n",
        "print(\"number of spam emails: \", np.sum(email_data.Label == 'S'))\n",
        "print(\"number of ham emails: \", np.sum(email_data.Label == 'H'))\n",
        "# let's look at 15 random samples from it.\n",
        "\n",
        "email_data.sample(15)"
      ],
      "execution_count": 316,
      "outputs": [
        {
          "output_type": "stream",
          "text": [
            "number of samples:  3052\n",
            "number of spam emails:  501\n",
            "number of ham emails:  2551\n"
          ],
          "name": "stdout"
        },
        {
          "output_type": "execute_result",
          "data": {
            "text/html": [
              "<div>\n",
              "<style scoped>\n",
              "    .dataframe tbody tr th:only-of-type {\n",
              "        vertical-align: middle;\n",
              "    }\n",
              "\n",
              "    .dataframe tbody tr th {\n",
              "        vertical-align: top;\n",
              "    }\n",
              "\n",
              "    .dataframe thead th {\n",
              "        text-align: right;\n",
              "    }\n",
              "</style>\n",
              "<table border=\"1\" class=\"dataframe\">\n",
              "  <thead>\n",
              "    <tr style=\"text-align: right;\">\n",
              "      <th></th>\n",
              "      <th>To</th>\n",
              "      <th>From</th>\n",
              "      <th>Subject</th>\n",
              "      <th>Content</th>\n",
              "      <th>Label</th>\n",
              "    </tr>\n",
              "  </thead>\n",
              "  <tbody>\n",
              "    <tr>\n",
              "      <th>1256</th>\n",
              "      <td>exmh-users@example.com</td>\n",
              "      <td>Brent Welch &lt;welch@panasas.com&gt;</td>\n",
              "      <td>Re: ARRRGHHH Had GPG working, now it doesnt.</td>\n",
              "      <td>If you haven't already, you should enable the ...</td>\n",
              "      <td>H</td>\n",
              "    </tr>\n",
              "    <tr>\n",
              "      <th>2344</th>\n",
              "      <td>yyyy@example.com</td>\n",
              "      <td>zawodny &lt;rssfeeds@example.com&gt;</td>\n",
              "      <td>OSXCon: Development Lessons from Bare Bones So...</td>\n",
              "      <td>URL: http://jeremy.zawodny.com/blog/archives/0...</td>\n",
              "      <td>H</td>\n",
              "    </tr>\n",
              "    <tr>\n",
              "      <th>939</th>\n",
              "      <td>\"Stephen D. Williams\" &lt;sdw@lig.net&gt;</td>\n",
              "      <td>Gary Lawrence Murphy &lt;garym@canada.com&gt;</td>\n",
              "      <td>Re: Living Love - Another legacy of the 60's</td>\n",
              "      <td>&gt;&gt;&gt;&gt;&gt; \"S\" == Stephen D Williams &lt;sdw@lig.net&gt; ...</td>\n",
              "      <td>H</td>\n",
              "    </tr>\n",
              "    <tr>\n",
              "      <th>2751</th>\n",
              "      <td>zzzz-latestdodgydotcomstock@jmason.org</td>\n",
              "      <td>Sarah Williams &lt;bounce@trafficmagnet.com&gt;</td>\n",
              "      <td>taint.org</td>\n",
              "      <td>Hi\\n\\nI visited taint.org, and noticed that yo...</td>\n",
              "      <td>S</td>\n",
              "    </tr>\n",
              "    <tr>\n",
              "      <th>2338</th>\n",
              "      <td>yyyy@example.com</td>\n",
              "      <td>zawodny &lt;rssfeeds@example.com&gt;</td>\n",
              "      <td>OSXCon Wed. -- James Gosling</td>\n",
              "      <td>URL: http://jeremy.zawodny.com/blog/archives/0...</td>\n",
              "      <td>H</td>\n",
              "    </tr>\n",
              "    <tr>\n",
              "      <th>2523</th>\n",
              "      <td>yyyy@example.com</td>\n",
              "      <td>diveintomark &lt;rssfeeds@example.com&gt;</td>\n",
              "      <td>Wedding music</td>\n",
              "      <td>URL: http://diveintomark.org/archives/2002/10/...</td>\n",
              "      <td>H</td>\n",
              "    </tr>\n",
              "    <tr>\n",
              "      <th>1776</th>\n",
              "      <td>NaN</td>\n",
              "      <td>tim.one@comcast.net</td>\n",
              "      <td>[Spambayes] Deployment</td>\n",
              "      <td>[Tim]\\n&gt; My tests train on about 7,000 msgs, a...</td>\n",
              "      <td>H</td>\n",
              "    </tr>\n",
              "    <tr>\n",
              "      <th>1786</th>\n",
              "      <td>NaN</td>\n",
              "      <td>anthony@interlink.com.au</td>\n",
              "      <td>[Spambayes] test sets?</td>\n",
              "      <td>\\n&gt; &gt; Note that header names are case insensit...</td>\n",
              "      <td>H</td>\n",
              "    </tr>\n",
              "    <tr>\n",
              "      <th>1974</th>\n",
              "      <td>yyyy@example.com</td>\n",
              "      <td>scripting &lt;rssfeeds@example.com&gt;</td>\n",
              "      <td>Note to self: Read the pingback spec. Form opi...</td>\n",
              "      <td>URL: http://scriptingnews.userland.com/backiss...</td>\n",
              "      <td>H</td>\n",
              "    </tr>\n",
              "    <tr>\n",
              "      <th>1751</th>\n",
              "      <td>NaN</td>\n",
              "      <td>guido@python.org</td>\n",
              "      <td>[Spambayes] Deployment</td>\n",
              "      <td>&gt; &gt; What's an auto-ham?\\n&gt; \\n&gt; Automatically m...</td>\n",
              "      <td>H</td>\n",
              "    </tr>\n",
              "    <tr>\n",
              "      <th>1988</th>\n",
              "      <td>yyyy@example.com</td>\n",
              "      <td>scripting &lt;rssfeeds@example.com&gt;</td>\n",
              "      <td>Looks like Google did a deal to index the NY T...</td>\n",
              "      <td>URL: http://scriptingnews.userland.com/backiss...</td>\n",
              "      <td>H</td>\n",
              "    </tr>\n",
              "    <tr>\n",
              "      <th>1887</th>\n",
              "      <td>yyyy-use-perl@example.com</td>\n",
              "      <td>pudge@perl.org</td>\n",
              "      <td>[use Perl] Headlines for 2002-09-13</td>\n",
              "      <td>use Perl Daily Headline Mailer\\n\\nThe Perl Jou...</td>\n",
              "      <td>H</td>\n",
              "    </tr>\n",
              "    <tr>\n",
              "      <th>17</th>\n",
              "      <td>Robert Elz &lt;kre@munnari.OZ.AU&gt;, exmh-workers@e...</td>\n",
              "      <td>Chris Garrigues &lt;cwg-exmh@DeepEddy.Com&gt;</td>\n",
              "      <td>Re: New Sequences Window</td>\n",
              "      <td>&gt; From:  Chris Garrigues &lt;cwg-exmh@DeepEddy.Co...</td>\n",
              "      <td>H</td>\n",
              "    </tr>\n",
              "    <tr>\n",
              "      <th>798</th>\n",
              "      <td>Fork@xent.com</td>\n",
              "      <td>Rohit Khare &lt;khare@alumni.caltech.edu&gt;</td>\n",
              "      <td>SF Weekly's Ultimate SF Date lineup :-)</td>\n",
              "      <td>I love the absurd sense of humor it takes to b...</td>\n",
              "      <td>H</td>\n",
              "    </tr>\n",
              "    <tr>\n",
              "      <th>2920</th>\n",
              "      <td>social@linux.ie</td>\n",
              "      <td>elane_ling@hotmail.com</td>\n",
              "      <td>[ILUG-Social] Poker for money againts real pla...</td>\n",
              "      <td>Get your favorite Poker action at http://www.m...</td>\n",
              "      <td>S</td>\n",
              "    </tr>\n",
              "  </tbody>\n",
              "</table>\n",
              "</div>"
            ],
            "text/plain": [
              "                                                     To  ... Label\n",
              "1256                             exmh-users@example.com  ...     H\n",
              "2344                                   yyyy@example.com  ...     H\n",
              "939                 \"Stephen D. Williams\" <sdw@lig.net>  ...     H\n",
              "2751             zzzz-latestdodgydotcomstock@jmason.org  ...     S\n",
              "2338                                   yyyy@example.com  ...     H\n",
              "2523                                   yyyy@example.com  ...     H\n",
              "1776                                                NaN  ...     H\n",
              "1786                                                NaN  ...     H\n",
              "1974                                   yyyy@example.com  ...     H\n",
              "1751                                                NaN  ...     H\n",
              "1988                                   yyyy@example.com  ...     H\n",
              "1887                          yyyy-use-perl@example.com  ...     H\n",
              "17    Robert Elz <kre@munnari.OZ.AU>, exmh-workers@e...  ...     H\n",
              "798                                       Fork@xent.com  ...     H\n",
              "2920                                    social@linux.ie  ...     S\n",
              "\n",
              "[15 rows x 5 columns]"
            ]
          },
          "metadata": {
            "tags": []
          },
          "execution_count": 316
        }
      ]
    },
    {
      "cell_type": "markdown",
      "metadata": {
        "colab_type": "text",
        "id": "iOKkJkrdHtIu"
      },
      "source": [
        "### <img src=\"https://img.icons8.com/color/96/000000/transformer.png\" style=\"height:50px;display:inline\"> Represent the Data\n",
        "We will now transform the data into a form which is applicable for the computer, for the algorithms - numbers."
      ]
    },
    {
      "cell_type": "code",
      "metadata": {
        "colab_type": "code",
        "id": "xiRaZ-chHtIw",
        "pycharm": {
          "is_executing": false
        },
        "colab": {
          "base_uri": "https://localhost:8080/",
          "height": 901
        },
        "outputId": "bcdee4fb-a667-447d-a006-b1e64eddf92b"
      },
      "source": [
        "# let's separate the Content and the Label for a sample of the data\n",
        "data_sample = email_data.sample(15)\n",
        "X_sample = data_sample['Content'].values\n",
        "y_sample = data_sample['Label'].values == 'S'  # 1 Spam, 0 for Ham\n",
        "# print(y_sample[0])\n",
        "# transform the data\n",
        "X_sample_augmented = email_pipeline.fit_transform(X_sample)\n",
        "# let's look at what we got\n",
        "print(type(X_sample_augmented))\n",
        "print(X_sample_augmented)"
      ],
      "execution_count": 317,
      "outputs": [
        {
          "output_type": "stream",
          "text": [
            "<class 'scipy.sparse.csr.csr_matrix'>\n",
            "  (0, 1)\t1\n",
            "  (0, 9)\t2\n",
            "  (0, 16)\t2\n",
            "  (0, 21)\t1\n",
            "  (0, 26)\t1\n",
            "  (0, 65)\t1\n",
            "  (0, 88)\t1\n",
            "  (0, 89)\t1\n",
            "  (0, 120)\t1\n",
            "  (0, 121)\t1\n",
            "  (0, 122)\t1\n",
            "  (0, 123)\t1\n",
            "  (0, 195)\t2\n",
            "  (0, 196)\t1\n",
            "  (1, 0)\t12\n",
            "  (1, 1)\t6\n",
            "  (1, 2)\t5\n",
            "  (1, 4)\t2\n",
            "  (1, 5)\t3\n",
            "  (1, 6)\t4\n",
            "  (1, 7)\t3\n",
            "  (1, 9)\t1\n",
            "  (1, 10)\t1\n",
            "  (1, 11)\t1\n",
            "  (1, 12)\t5\n",
            "  :\t:\n",
            "  (14, 10)\t1\n",
            "  (14, 13)\t1\n",
            "  (14, 16)\t4\n",
            "  (14, 19)\t1\n",
            "  (14, 21)\t1\n",
            "  (14, 23)\t1\n",
            "  (14, 26)\t1\n",
            "  (14, 33)\t1\n",
            "  (14, 38)\t3\n",
            "  (14, 43)\t1\n",
            "  (14, 45)\t4\n",
            "  (14, 46)\t1\n",
            "  (14, 47)\t1\n",
            "  (14, 53)\t1\n",
            "  (14, 56)\t1\n",
            "  (14, 59)\t2\n",
            "  (14, 67)\t1\n",
            "  (14, 69)\t1\n",
            "  (14, 77)\t1\n",
            "  (14, 97)\t1\n",
            "  (14, 104)\t1\n",
            "  (14, 105)\t1\n",
            "  (14, 109)\t1\n",
            "  (14, 147)\t1\n",
            "  (14, 148)\t1\n"
          ],
          "name": "stdout"
        }
      ]
    },
    {
      "cell_type": "code",
      "metadata": {
        "colab_type": "code",
        "id": "NvDy3OsWHtI0",
        "pycharm": {
          "is_executing": false
        },
        "colab": {
          "base_uri": "https://localhost:8080/",
          "height": 136
        },
        "outputId": "a7988c45-bc64-48ee-ac6b-29c27358d715"
      },
      "source": [
        "# from sparse to dense\n",
        "X_sample_augmented = X_sample_augmented.todense()\n",
        "print(X_sample_augmented)"
      ],
      "execution_count": 318,
      "outputs": [
        {
          "output_type": "stream",
          "text": [
            "[[ 0  1  0 ...  0  0  0]\n",
            " [12  6  5 ...  1  2  2]\n",
            " [ 0  0  0 ...  0  0  0]\n",
            " ...\n",
            " [17 17 16 ...  0  0  0]\n",
            " [14  9  5 ...  0  0  0]\n",
            " [ 0  0  4 ...  0  0  0]]\n"
          ],
          "name": "stdout"
        }
      ]
    },
    {
      "cell_type": "code",
      "metadata": {
        "colab_type": "code",
        "id": "W1st58wsHtI3",
        "pycharm": {
          "is_executing": false
        },
        "colab": {
          "base_uri": "https://localhost:8080/",
          "height": 54
        },
        "outputId": "06918466-8c7f-46db-d3d3-211a3c27eb75"
      },
      "source": [
        "# let's look at the vocabulary\n",
        "dictionary = email_pipeline['Wordcount to Vector'].vocabulary_\n",
        "print(dictionary)\n",
        "# dictionary[\"the\"]"
      ],
      "execution_count": 319,
      "outputs": [
        {
          "output_type": "stream",
          "text": [
            "{'the': 0, 'and': 1, 'to': 2, 'i': 3, 'of': 4, 'in': 5, 'a': 6, 'you': 7, 'my': 8, 'http': 9, 'thi': 10, 'for': 11, 'if': 12, 'is': 13, 'have': 14, 'on': 15, 'com': 16, 'it': 17, 'that': 18, 'your': 19, 'as': 20, 's': 21, 'linux': 22, 'from': 23, 'are': 24, 'but': 25, 'www': 26, 't': 27, 'be': 28, 'font': 29, 'not': 30, 'list': 31, 'cd': 32, 'an': 33, 'with': 34, 'at': 35, 'some': 36, 'wa': 37, 'group': 38, 'ie': 39, 'protest': 40, 'or': 41, 'want': 42, 'use': 43, 'net': 44, 'yahoo': 45, 'us': 46, 'famili': 47, 'get': 48, 'ilug': 49, 'will': 50, 'more': 51, 'new': 52, 'email': 53, 'we': 54, 'onli': 55, 'which': 56, 'she': 57, 'they': 58, 'unsubscrib': 59, 'size': 60, 'time': 61, 'dell': 62, 'order': 63, 'mso': 64, 'html': 65, 'what': 66, 'click': 67, 'wrote': 68, 'forteana': 69, 'their': 70, 'also': 71, 'messag': 72, 'color': 73, 'receiv': 74, 'box': 75, 'our': 76, 'one': 77, 'rpm': 78, 'window': 79, 'xp': 80, 'inform': 81, 'where': 82, 'margin': 83, 'hi': 84, 'duplic': 85, 'husband': 86, 'other': 87, 'when': 88, 'am': 89, 'like': 90, 'out': 91, 'her': 92, 'd': 93, 'most': 94, 'think': 95, 'ha': 96, 'peopl': 97, 'just': 98, 'do': 99, 'thank': 100, 'frogston': 101, 'still': 102, 'go': 103, 'home': 104, 'send': 105, 'verdana': 106, 'px': 107, 'into': 108, 'me': 109, 'so': 110, 'card': 111, 'can': 112, 'differ': 113, 'such': 114, 'don': 115, 'best': 116, 'secur': 117, 'servic': 118, 'son': 119, 'url': 120, 'date': 121, 'compani': 122, 'could': 123, 'even': 124, 'citi': 125, 'look': 126, 'set': 127, 'wrong': 128, 'idea': 129, 'under': 130, 'way': 131, 'ask': 132, 'good': 133, 'tri': 134, 'anoth': 135, 'show': 136, 'photo': 137, 'guy': 138, 'becaus': 139, 'there': 140, 'name': 141, 'up': 142, 'thing': 143, 'chang': 144, 'page': 145, 'been': 146, 'sell': 147, 'subject': 148, 'pleas': 149, 'mail': 150, 'peter': 151, 'local': 152, 'realli': 153, 'mailman': 154, 'listinfo': 155, 'hit': 156, 'comput': 157, 'suse': 158, 'experi': 159, 'got': 160, 'featur': 161, 'anyon': 162, 've': 163, 'maintain': 164, 'known': 165, 'buy': 166, 'pro': 167, 'manual': 168, 'work': 169, 'save': 170, 'veri': 171, 'over': 172, 'custom': 173, 'll': 174, 'now': 175, 'msonorm': 176, 'section': 177, 'mcfarlan': 178, 'later': 179, 'by': 180, 'mr': 181, 'sese': 182, 'seko': 183, 'late': 184, 'situat': 185, 'deposit': 186, 'countri': 187, 'money': 188, 'kabila': 189, 'govern': 190, 'invest': 191, 'fund': 192, 'assist': 193, 'busi': 194, 'wire': 195, 'trade': 196, 'than': 197, 'cruis': 198, 'bridg': 199}\n"
          ],
          "name": "stdout"
        }
      ]
    },
    {
      "cell_type": "markdown",
      "metadata": {
        "colab_type": "text",
        "id": "RASQNaMTHtI8"
      },
      "source": [
        "### <img src=\"https://img.icons8.com/flat_round/64/000000/split.png\" style=\"height:50px;display:inline\"> Split the Data\n",
        "We will now split the data into train and test sets, so we can train and evaluate our algorithms."
      ]
    },
    {
      "cell_type": "code",
      "metadata": {
        "colab_type": "code",
        "id": "A5jNA0HXHtI9",
        "pycharm": {
          "is_executing": false
        },
        "colab": {}
      },
      "source": [
        "def train_test_split(X, y, test_size):\n",
        "    \"\"\"\n",
        "    :param X: features\n",
        "    :param y: labels\n",
        "    :param test_size: test set size in percentage (0 < test_size < 1)\n",
        "    :return X_train, X_test, y_train, y_test\n",
        "    \"\"\"\n",
        "    n_samples = X.shape[0]\n",
        "    num_train = int((1 - test_size) * n_samples)\n",
        "    rand_gen = np.random.RandomState()\n",
        "    random_indices = rand_gen.permutation(n_samples)\n",
        "    \"\"\"\n",
        "    Your Code Here\n",
        "    \"\"\"\n",
        "    X_train = X[random_indices[0:num_train]]\n",
        "    X_test = X[random_indices[num_train:]]\n",
        "    y_train = y[random_indices[0:num_train]]\n",
        "    y_test = y[random_indices[num_train:]]\n",
        "\n",
        "\n",
        "    return X_train, X_test, y_train, y_test"
      ],
      "execution_count": 320,
      "outputs": []
    },
    {
      "cell_type": "code",
      "metadata": {
        "colab_type": "code",
        "id": "1XKDj_RkHtJB",
        "pycharm": {
          "is_executing": true
        },
        "colab": {
          "base_uri": "https://localhost:8080/",
          "height": 102
        },
        "outputId": "c2fd5333-ad55-49e5-e4c9-e7392baf1c34"
      },
      "source": [
        "# test your function\n",
        "X = email_data['Content'].values\n",
        "y = email_data['Label'].values == 'S'  # 1 Spam, 0 for Ham\n",
        "# split\n",
        "X_train, X_test, y_train, y_test = train_test_split(X, y, test_size=0.2)\n",
        "# transform\n",
        "X_train_augmented = email_pipeline.fit_transform(X_train)\n",
        "X_test_augmented = email_pipeline.transform(X_test)\n",
        "\n",
        "print(\"num train samples: \", X_train.shape[0])\n",
        "print(\"num test samples: \", X_test.shape[0])\n",
        "print(\"shape after augmentation: \", X_train_augmented.shape)\n",
        "print(\"fraction of spam in the original: \", np.mean(y == 1))\n",
        "print(\"fraction of spam in the train set: \", np.mean(y_train == 1))"
      ],
      "execution_count": 321,
      "outputs": [
        {
          "output_type": "stream",
          "text": [
            "num train samples:  2441\n",
            "num test samples:  611\n",
            "shape after augmentation:  (2441, 200)\n",
            "fraction of spam in the original:  0.16415465268676277\n",
            "fraction of spam in the train set:  0.16837361736993037\n"
          ],
          "name": "stdout"
        }
      ]
    },
    {
      "cell_type": "markdown",
      "metadata": {
        "colab_type": "text",
        "id": "fm0Fk7fJHtJJ"
      },
      "source": [
        "### <img src=\"https://img.icons8.com/color/96/000000/rubiks-cube.png\" style=\"height:50px;display:inline\"> Naive Bayes\n",
        "We will now implement the Naive Bayes algorithm, using the Scikit-Learn formulation.\n",
        "Each ML algorithm has 2 methods:\n",
        "1. `fit` - Traning stage. the algorithm receives $X_{train}$, $y_{train}$, and learns the parameters to perform classification.\n",
        "2. `predict` - The algorithm uses the learned parameters to perform prediction on $X_{test}$.\n",
        "\n",
        "\n",
        "* For the likelihood parameters calculation, you can use the pre-made function `estimate_likelihood_params`. Read its description and how to use it."
      ]
    },
    {
      "cell_type": "code",
      "metadata": {
        "colab_type": "code",
        "id": "Hzn3c5gdHtJK",
        "pycharm": {
          "is_executing": true,
          "name": "#%%\n"
        },
        "colab": {}
      },
      "source": [
        "\"\"\"\n",
        "The following function calculates the likelihood parameters of each distribution. \n",
        "Please take some time to understand how it works.\n",
        "\"\"\"\n",
        "\n",
        "\n",
        "def estimate_likelihood_params(X, y, dist_type=\"gaussian\", c=0.5, num_classes=2):\n",
        "    \"\"\"\n",
        "    Calculate the likelihood P(X|y,theta)\n",
        "    :param X: features\n",
        "    :param y: labels\n",
        "    :param dist_type: type of distribution: \"gaussian\", \"bernoulli\", \"multinomial\", \"multinomial_smooth\"\n",
        "    :param c: smoothing parameter for \"multinomial_smooth\"\n",
        "    :param num_classes: number of classes\n",
        "    :return likelihood_params\n",
        "    \"\"\"\n",
        "    if isinstance(X, csr_matrix):\n",
        "        X = X.todense()\n",
        "    n_samples = X.shape[0]\n",
        "    n_feat = X.shape[1]\n",
        "    params = {'type': dist_type}\n",
        "    if dist_type == 'gaussian':\n",
        "        mu_s = np.zeros((num_classes, n_feat))\n",
        "        sigmaSqr_s = np.zeros((num_classes, n_feat))\n",
        "        for i_class in range(num_classes):\n",
        "            mu_s[i_class] = X[y == i_class].mean(axis=0)\n",
        "            sigmaSqr_s[i_class] = np.square(X[y == i_class] - mu_s[i_class]).mean(axis=0)\n",
        "        params['mu'] = mu_s\n",
        "        params['sigmaSqr'] = sigmaSqr_s\n",
        "\n",
        "    elif dist_type == 'bernoulli':\n",
        "        p_s = np.zeros((num_classes, n_feat))\n",
        "        for i_class in range(num_classes):\n",
        "            x_i = X[y == i_class]\n",
        "            # change to 0-1 (binary features)\n",
        "            x_i[x_i > 0] = 1\n",
        "            p_s[i_class] = x_i.mean(axis=0)\n",
        "        params['p'] = p_s\n",
        "\n",
        "    elif dist_type == 'multinomial':\n",
        "        p_s = np.zeros((num_classes, n_feat))\n",
        "        for i_class in range(num_classes):\n",
        "            x_i = X[y == i_class]\n",
        "            T = np.sum(x_i)\n",
        "            p_s[i_class] = np.sum(x_i, axis=0) / T\n",
        "        params['p'] = p_s\n",
        "    elif dist_type == 'multinomial_smooth':\n",
        "        p_s = np.zeros((num_classes, n_feat))\n",
        "        for i_class in range(num_classes):\n",
        "            x_i = X[y == i_class]\n",
        "            T = np.sum(x_i[:]) + c * n_feat\n",
        "            p_s[i_class] = (c + np.sum(x_i, axis=0)) / T\n",
        "        params['p'] = p_s\n",
        "    else:\n",
        "        print(\"unknown distribution!\")\n",
        "        return\n",
        "    return params"
      ],
      "execution_count": 322,
      "outputs": []
    },
    {
      "cell_type": "code",
      "metadata": {
        "colab_type": "code",
        "id": "Lqc9N5ZxHtJN",
        "pycharm": {
          "is_executing": true
        },
        "colab": {}
      },
      "source": [
        "\"\"\"\n",
        "Implement the Naive Bayes classifier. Complete the code where you are asked to.\n",
        "\"\"\"\n",
        "import math\n",
        "class MlabNaiveBayes():\n",
        "    \"This class implement a Naive Bayes Classifier.\"\n",
        "\n",
        "    def __init__(self, dist_type=\"gaussian\", num_classes=2, use_log_prob=False):\n",
        "        \"\"\"\n",
        "        Initialize the classifier.\n",
        "        :param dist_type: type of distribution: \"gaussian\", \"bernoulli\", \"multinomial\", \"multinomial_smooth\"\n",
        "        :param num_classes: number of classes\n",
        "        :param use_log_prob: whether or not to use the log probability instead of the regular probility\n",
        "        \"\"\"\n",
        "        self.dist_type = dist_type\n",
        "        self.num_classes = num_classes\n",
        "        self.priors = None  # no priors\n",
        "        self.likelihood_params = None\n",
        "        self.use_log_prob = use_log_prob\n",
        "        self.last_scores = None\n",
        "\n",
        "    def fit(self, X, y):\n",
        "        \"\"\"\n",
        "        Train the classifier.\n",
        "        :param X: features\n",
        "        :param y: labels\n",
        "        \"\"\"\n",
        "        self.likelihood_params = estimate_likelihood_params(X, y, dist_type=self.dist_type)\n",
        "        num_samples = y.shape[0]\n",
        "        priors = np.zeros(self.num_classes)\n",
        "        for i in range(self.num_classes):\n",
        "            \"\"\"\n",
        "            Your Code Here\n",
        "            \"\"\"         \n",
        "            priors[i] = (y==i).sum()\n",
        "\n",
        "        priors /= num_samples           \n",
        "           \n",
        "        self.priors = priors\n",
        "\n",
        "    def predict(self, X):\n",
        "        \"\"\"\n",
        "        Predict labels for features\n",
        "        :param X: features\n",
        "        :return y_pred: predictions\n",
        "        \"\"\"\n",
        "        n_samples = X.shape[0]\n",
        "        if self.priors is None or self.likelihood_params is None:\n",
        "            print(\"can't call 'predict' before 'fit'\")\n",
        "            return\n",
        "        if isinstance(X, csr_matrix):\n",
        "            X = X.todense()\n",
        "        self.last_scores = np.zeros((n_samples, self.num_classes))\n",
        "        y_pred = np.zeros(n_samples)\n",
        "        for i_sample in range(n_samples):\n",
        "            sample = X[i_sample, :]\n",
        "            prior = self.priors\n",
        "            if not self.use_log_prob:\n",
        "                # in case use_log_prob == False\n",
        "                likelihood = self.eval_sample_likelihood(sample)\n",
        "                if likelihood is None:\n",
        "                    print(\"Error: eval_sample_likelihood failed!!!\")\n",
        "                    return y_pred\n",
        "                \"\"\"\n",
        "                Your Code Here\n",
        "                \"\"\"\n",
        "                ## calculate the un-normalized posterior:\n",
        "                posterior = prior*likelihood\n",
        "                ## implement the prediction rule\n",
        "                y_pred[i_sample] = np.argmax(posterior)\n",
        "                     \n",
        "                self.last_scores[i_sample] = posterior  # un-comment this line\n",
        "            else:\n",
        "                # in case use_log_prob == True\n",
        "                log_likelihood = self.eval_sample_log_likelihood(sample)\n",
        "                \"\"\"\n",
        "                Your Code Here\n",
        "                \"\"\"            \n",
        "                ## calculate the log-posterior (up to additive constant):\n",
        "                log_posterior = np.log(prior) + log_likelihood\n",
        "                ## implement the prediction rule\n",
        "                y_pred[i_sample] = np.argmax(log_posterior)\n",
        "              \n",
        "                self.last_scores[i_sample] = log_posterior  # un-comment this line\n",
        "        return y_pred\n",
        "\n",
        "    def eval_sample_likelihood(self, sample):\n",
        "        dist_type, likelihood_params, num_classes = self.dist_type, self.likelihood_params, self.num_classes\n",
        "        likelihood = np.zeros(num_classes)\n",
        "        if dist_type == 'gaussian':\n",
        "            mu_s = likelihood_params['mu']\n",
        "            sigmaSqr_s = likelihood_params['sigmaSqr']\n",
        "            for i_class in range(num_classes):\n",
        "                mu = mu_s[i_class]\n",
        "                sigmaSqr = sigmaSqr_s[i_class]\n",
        "                if np.any(sigmaSqr == 0):\n",
        "                    print(\"Error: cannot predict with Gaussian distribution, SigmaSqr has zeros !!!\")\n",
        "                    return None\n",
        "                \"\"\"\n",
        "                Your Code Here\n",
        "                \n",
        "                Use the vectors mu  [n_features x 1] and sigmaSqr [n_features x 1]\n",
        "                  (estimated mean and variance vectors,  given the class i_class)\n",
        "                  and the feature vector sample [n_features x 1]\n",
        "                \"\"\"\n",
        "                norm_factor = 1/(np.sqrt(2*math.pi*sigmaSqr))\n",
        "                exp_argument = (-1/2)*((np.square(mu-sample))/sigmaSqr)\n",
        "                norm_pdf = np.multiply(norm_factor, np.exp(exp_argument))\n",
        "                likelihood[i_class] = np.prod(norm_pdf)\n",
        "    \n",
        "            # end for\n",
        "        elif dist_type == 'multinomial' or dist_type == 'multinomial_smooth':\n",
        "            p_s = likelihood_params['p']\n",
        "            for i_class in range(num_classes):\n",
        "                p = p_s[i_class]\n",
        "                \"\"\"\n",
        "                Your Code Here\n",
        "                \n",
        "                  Use the vector p [n_features x 1]  (estimated theta probabilites given the class i_class) \n",
        "                    and the feature vector sample [n_features x 1]\n",
        "                \"\"\"        \n",
        "                likelihood[i_class] =  np.prod(p**sample)               \n",
        "        else:\n",
        "            raise ValueError(\"unknown distribution!\")\n",
        "        # end if\n",
        "        return likelihood\n",
        "\n",
        "    def eval_sample_log_likelihood(self, sample):\n",
        "        dist_type, likelihood_params, num_classes = self.dist_type, self.likelihood_params, self.num_classes\n",
        "        log_likelihood = np.zeros(num_classes)\n",
        "        if dist_type == 'multinomial' or dist_type == 'multinomial_smooth':\n",
        "            p_s = likelihood_params['p']\n",
        "            for i_class in range(num_classes):\n",
        "                p = p_s[i_class]\n",
        "                \"\"\"\n",
        "                Your Code Here\n",
        "                \n",
        "                  Use the vector p [n_features x 1]  (estimated theta probabilites given the class i_class) \n",
        "                    and the feature vector sample [n_features x 1]\n",
        "                \"\"\"\n",
        "                # print(\"DEBUG - reached HERE\")\n",
        "                # multiplication = np.multiply(sample,np.log(p))        \n",
        "                log_likelihood[i_class] = np.sum(np.multiply(sample,np.log(p)),axis=1)                \n",
        "        else:\n",
        "            raise ValueError(\"unknown distribution!\")\n",
        "        return log_likelihood"
      ],
      "execution_count": 336,
      "outputs": []
    },
    {
      "cell_type": "code",
      "metadata": {
        "colab_type": "code",
        "id": "rlpfOwRpj2Wn",
        "pycharm": {
          "is_executing": true
        },
        "colab": {}
      },
      "source": [
        "def calc_err(y_pred, y_true):\n",
        "    \"\"\"\n",
        "    Your Code Here\n",
        "    \"\"\"\n",
        "    error = y_pred != y_true\n",
        "    error =  error.mean() \n",
        "    return error"
      ],
      "execution_count": 324,
      "outputs": []
    },
    {
      "cell_type": "code",
      "metadata": {
        "colab_type": "code",
        "id": "9nQ_d8UbHtJS",
        "pycharm": {
          "is_executing": true
        },
        "colab": {
          "base_uri": "https://localhost:8080/",
          "height": 51
        },
        "outputId": "3a14df07-2b06-4693-c5c3-4ba58489d74c"
      },
      "source": [
        "# let's see it in action for the gaussian case\n",
        "# create classifier\n",
        "clf = MlabNaiveBayes(dist_type=\"gaussian\", num_classes=2)\n",
        "# train on train set\n",
        "clf.fit(X_train_augmented, y_train)\n",
        "# predict on test set\n",
        "y_pred = clf.predict(X_test_augmented)"
      ],
      "execution_count": 325,
      "outputs": [
        {
          "output_type": "stream",
          "text": [
            "Error: cannot predict with Gaussian distribution, SigmaSqr has zeros !!!\n",
            "Error: eval_sample_likelihood failed!!!\n"
          ],
          "name": "stdout"
        }
      ]
    },
    {
      "cell_type": "markdown",
      "metadata": {
        "colab_type": "text",
        "id": "36ManW_HHtJU"
      },
      "source": [
        "* OH NO! WHAT HAPPEND??"
      ]
    },
    {
      "cell_type": "code",
      "metadata": {
        "colab_type": "code",
        "id": "LHBmXW-5HtJV",
        "pycharm": {
          "is_executing": true
        },
        "colab": {
          "base_uri": "https://localhost:8080/",
          "height": 408
        },
        "outputId": "64dea3ed-43a8-49b3-bb69-0cf71b4a896a"
      },
      "source": [
        "# let's see it in action for the multinomial case\n",
        "# create classifier\n",
        "clf = MlabNaiveBayes(dist_type=\"multinomial\", num_classes=2)\n",
        "# train on train set\n",
        "clf.fit(X_train_augmented, y_train)\n",
        "\n",
        "# predict on test set\n",
        "y_pred = clf.predict(X_test_augmented)\n",
        "\n",
        "# calculate the error\n",
        "error = calc_err(y_pred, y_test)\n",
        "print(\"classification error for multinomial: {} ({}%)\".format(error, error * 100))\n",
        "\n",
        "# let's look at the posterior values\n",
        "print(\"shape of the posterior values: {}\".format(clf.last_scores.shape))\n",
        "print(\"posterior values for multinomial:\")\n",
        "print(clf.last_scores[:20])"
      ],
      "execution_count": 326,
      "outputs": [
        {
          "output_type": "stream",
          "text": [
            "classification error for multinomial: 0.058919803600654665 (5.8919803600654665%)\n",
            "shape of the posterior values: (611, 2)\n",
            "posterior values for multinomial:\n",
            "[[1.38436323e-184 0.00000000e+000]\n",
            " [0.00000000e+000 0.00000000e+000]\n",
            " [0.00000000e+000 0.00000000e+000]\n",
            " [5.89154753e-267 4.39422781e-270]\n",
            " [0.00000000e+000 0.00000000e+000]\n",
            " [0.00000000e+000 0.00000000e+000]\n",
            " [5.23919075e-173 3.12390088e-173]\n",
            " [4.49413669e-280 0.00000000e+000]\n",
            " [6.56767996e-049 0.00000000e+000]\n",
            " [9.31592384e-221 0.00000000e+000]\n",
            " [5.00511229e-176 9.24143004e-184]\n",
            " [0.00000000e+000 0.00000000e+000]\n",
            " [3.66563216e-026 7.92965651e-030]\n",
            " [2.52660802e-179 6.26778299e-187]\n",
            " [7.81038430e-038 3.19702299e-043]\n",
            " [2.82709523e-043 8.86667488e-046]\n",
            " [3.13681211e-138 5.65354094e-154]\n",
            " [3.73155680e-207 0.00000000e+000]\n",
            " [7.05629475e-034 1.59735545e-038]\n",
            " [4.83239151e-248 5.61995103e-258]]\n"
          ],
          "name": "stdout"
        }
      ]
    },
    {
      "cell_type": "code",
      "metadata": {
        "colab_type": "code",
        "id": "bN4cI0syHtJg",
        "pycharm": {
          "is_executing": true
        },
        "colab": {
          "base_uri": "https://localhost:8080/",
          "height": 391
        },
        "outputId": "de188fa0-2673-438d-eafc-847a88108a85"
      },
      "source": [
        "\n",
        "# let's see it in action for the smooth multinomial case\n",
        "# create classifier\n",
        "clf = MlabNaiveBayes(dist_type=\"multinomial_smooth\", num_classes=2)\n",
        "# train on train set\n",
        "clf.fit(X_train_augmented, y_train)\n",
        "# predict on test set\n",
        "y_pred = clf.predict(X_test_augmented)\n",
        "\n",
        "# calculate the error\n",
        "error = calc_err(y_pred, y_test)\n",
        "print(\"classification error for multinomial_smooth: {} ({}%)\".format(error, error * 100))\n",
        "\n",
        "print(\"posterior values for multinomial_smooth:\")\n",
        "print(clf.last_scores[:20])"
      ],
      "execution_count": 327,
      "outputs": [
        {
          "output_type": "stream",
          "text": [
            "classification error for multinomial_smooth: 0.058919803600654665 (5.8919803600654665%)\n",
            "posterior values for multinomial_smooth:\n",
            "[[1.38454873e-184 1.42821397e-209]\n",
            " [0.00000000e+000 0.00000000e+000]\n",
            " [0.00000000e+000 0.00000000e+000]\n",
            " [5.85308539e-267 4.37244917e-270]\n",
            " [0.00000000e+000 0.00000000e+000]\n",
            " [0.00000000e+000 0.00000000e+000]\n",
            " [5.30392119e-173 3.19151872e-173]\n",
            " [4.52730783e-280 0.00000000e+000]\n",
            " [6.56214166e-049 3.90138109e-054]\n",
            " [9.28356241e-221 2.06512448e-247]\n",
            " [4.97308989e-176 9.90439933e-184]\n",
            " [0.00000000e+000 0.00000000e+000]\n",
            " [3.66714200e-026 8.37128722e-030]\n",
            " [2.48720544e-179 6.28249177e-187]\n",
            " [7.79963880e-038 3.39311871e-043]\n",
            " [2.83624858e-043 9.34873206e-046]\n",
            " [3.13926972e-138 1.23262423e-153]\n",
            " [3.70283180e-207 1.74555884e-215]\n",
            " [7.05480707e-034 1.69581522e-038]\n",
            " [4.81678152e-248 6.02560079e-258]]\n"
          ],
          "name": "stdout"
        }
      ]
    },
    {
      "cell_type": "code",
      "metadata": {
        "colab_type": "code",
        "id": "5bXqokJAlMd-",
        "pycharm": {
          "is_executing": true
        },
        "colab": {
          "base_uri": "https://localhost:8080/",
          "height": 391
        },
        "outputId": "9bc1cf25-f334-4362-c43d-f5629af29e67"
      },
      "source": [
        "# let's see it in action for the smooth multinomial case  with logarithmic probability\n",
        "# create classifier\n",
        "clf = MlabNaiveBayes(dist_type=\"multinomial_smooth\", num_classes=2, use_log_prob=True)\n",
        "# train on train set\n",
        "clf.fit(X_train_augmented, y_train)\n",
        "# predict on test set\n",
        "y_pred = clf.predict(X_test_augmented)\n",
        "\n",
        "# calculate the error\n",
        "error = calc_err(y_pred, y_test)\n",
        "print(\"classification error for multinomial_smooth & log_prob: {} ({}%)\".format(error, error * 100))\n",
        "\n",
        "print(\"log-posterior values for multinomial_smooth:\")\n",
        "print(clf.last_scores[:20])"
      ],
      "execution_count": 337,
      "outputs": [
        {
          "output_type": "stream",
          "text": [
            "classification error for multinomial_smooth & log_prob: 0.027823240589198037 (2.7823240589198037%)\n",
            "log-posterior values for multinomial_smooth:\n",
            "[[ -423.35028285  -480.88385975]\n",
            " [-2456.82663218 -2485.17315022]\n",
            " [-1619.37726865 -1687.93449731]\n",
            " [ -613.02325089  -620.22265181]\n",
            " [-1257.59575776 -1201.84372567]\n",
            " [-3004.22932374 -3049.33338713]\n",
            " [ -396.67877469  -397.1867242 ]\n",
            " [ -643.21369857  -756.60889746]\n",
            " [ -110.94535253  -122.97826441]\n",
            " [ -506.6430602   -568.01332746]\n",
            " [ -403.65093501  -421.38267808]\n",
            " [-1754.41951905 -1810.32655066]\n",
            " [  -58.56779981   -66.95274513]\n",
            " [ -411.25157188  -428.74564571]\n",
            " [  -85.44415611   -97.78940953]\n",
            " [  -97.96867674  -103.68367355]\n",
            " [ -316.61275263  -352.08637381]\n",
            " [ -475.32601637  -494.49872024]\n",
            " [  -76.33418392   -86.97006995]\n",
            " [ -569.46899709  -592.2709368 ]]\n"
          ],
          "name": "stdout"
        }
      ]
    },
    {
      "cell_type": "code",
      "metadata": {
        "colab_type": "code",
        "id": "XE7wSYIaHtJm",
        "pycharm": {
          "is_executing": true
        },
        "colab": {
          "base_uri": "https://localhost:8080/",
          "height": 272
        },
        "outputId": "7d0fe287-f9ce-40b6-c14f-9fa834d6b0b2"
      },
      "source": [
        "\"\"\"\n",
        "Analyze the effect of train sets of different sizes\n",
        "\"\"\"\n",
        "\n",
        "X = email_data['Content'].values\n",
        "y = email_data['Label'].values == 'S'  # 1 Spam, 0 for Ham\n",
        "\n",
        "\n",
        "def run_train_and_test(X, y, train_ratio, test_size, email_pipeline):\n",
        "\n",
        "    # pre-process\n",
        "    X_train, X_test, y_train, y_test = train_test_split(X, y, test_size=test_size)\n",
        "    # use a ratio of the full training set:\n",
        "    num_train = int(train_ratio * X_train.shape[0])\n",
        "    X_train = X_train[:num_train]\n",
        "    y_train = y_train[:num_train]\n",
        "    \"\"\"\n",
        "    Your Code Here\n",
        "    \"\"\"\n",
        "    # transform the data\n",
        "    X_train_augmented = email_pipeline.fit_transform(X_train)\n",
        "    X_test_augmented = email_pipeline.transform(X_test)\n",
        "    # train\n",
        "    my_classifier = MlabNaiveBayes(dist_type=\"multinomial_smooth\", num_classes=2, use_log_prob=True)\n",
        "    my_classifier.fit(X_train_augmented, y_train)\n",
        "    # test\n",
        "    y_pred = my_classifier.predict(X_test_augmented)\n",
        "    \n",
        "    # calculate error\n",
        "    err = calc_err(y_pred, y_test)\n",
        "    return err\n",
        "\n",
        "\n",
        "# Run grid of train_ratios and num_repeats\n",
        "num_repeats = 20\n",
        "test_size = 0.2\n",
        "train_ratios = [0.1, 0.2, 0.4, 0.8, 1]\n",
        "test_errors = np.zeros(len(train_ratios))\n",
        "test_errors_std = np.zeros(len(train_ratios))\n",
        "\n",
        "for i_grid, train_ratio in enumerate(train_ratios):\n",
        "    print(\"\\n current train ratio: {}\".format(train_ratio))\n",
        "    current_errors = np.zeros(num_repeats)\n",
        "    for i_rep in tqdm(range(num_repeats)):\n",
        "        current_errors[i_rep] = run_train_and_test(X, y, train_ratio, test_size, email_pipeline)\n",
        "    test_errors[i_grid] = np.mean(current_errors)\n",
        "    test_errors_std[i_grid] = np.std(current_errors)\n"
      ],
      "execution_count": null,
      "outputs": [
        {
          "output_type": "stream",
          "text": [
            "\r  0%|          | 0/20 [00:00<?, ?it/s]"
          ],
          "name": "stderr"
        },
        {
          "output_type": "stream",
          "text": [
            "\n",
            " current train ratio: 0.1\n"
          ],
          "name": "stdout"
        },
        {
          "output_type": "stream",
          "text": [
            "100%|██████████| 20/20 [00:45<00:00,  2.27s/it]\n",
            "  0%|          | 0/20 [00:00<?, ?it/s]"
          ],
          "name": "stderr"
        },
        {
          "output_type": "stream",
          "text": [
            "\n",
            " current train ratio: 0.2\n"
          ],
          "name": "stdout"
        },
        {
          "output_type": "stream",
          "text": [
            "100%|██████████| 20/20 [00:54<00:00,  2.75s/it]\n",
            "  0%|          | 0/20 [00:00<?, ?it/s]"
          ],
          "name": "stderr"
        },
        {
          "output_type": "stream",
          "text": [
            "\n",
            " current train ratio: 0.4\n"
          ],
          "name": "stdout"
        },
        {
          "output_type": "stream",
          "text": [
            "100%|██████████| 20/20 [01:20<00:00,  4.03s/it]\n",
            "  0%|          | 0/20 [00:00<?, ?it/s]"
          ],
          "name": "stderr"
        },
        {
          "output_type": "stream",
          "text": [
            "\n",
            " current train ratio: 0.8\n"
          ],
          "name": "stdout"
        },
        {
          "output_type": "stream",
          "text": [
            "100%|██████████| 20/20 [02:09<00:00,  6.46s/it]\n",
            "  0%|          | 0/20 [00:00<?, ?it/s]"
          ],
          "name": "stderr"
        },
        {
          "output_type": "stream",
          "text": [
            "\n",
            " current train ratio: 1\n"
          ],
          "name": "stdout"
        },
        {
          "output_type": "stream",
          "text": [
            "100%|██████████| 20/20 [02:35<00:00,  7.76s/it]\n"
          ],
          "name": "stderr"
        }
      ]
    },
    {
      "cell_type": "code",
      "metadata": {
        "colab_type": "code",
        "id": "2gEPy8jOHtJp",
        "pycharm": {
          "is_executing": true
        },
        "colab": {
          "base_uri": "https://localhost:8080/",
          "height": 513
        },
        "outputId": "311c0796-aadb-4619-8377-77a54898f25a"
      },
      "source": [
        "\"\"\"\n",
        "Plot the results\n",
        "\"\"\"\n",
        "fig = plt.figure(figsize=(10, 8))\n",
        "ax = fig.add_subplot(111)\n",
        "ax.errorbar(train_ratios, 100*test_errors, yerr=100*test_errors_std, uplims=True, lolims=True)\n",
        "ax.set_xlabel(\"train size\")\n",
        "ax.set_ylabel(\"error %\")\n",
        "ax.grid()\n",
        "ax.set_title(\"Test Error vs. Train Size (N={} Repeats)\".format(num_repeats))\n",
        "plt.show()"
      ],
      "execution_count": null,
      "outputs": [
        {
          "output_type": "display_data",
          "data": {
            "image/png": "[encoded data removed]",
            "text/plain": [
              "<Figure size 720x576 with 1 Axes>"
            ]
          },
          "metadata": {
            "tags": [],
            "needs_background": "light"
          }
        }
      ]
    },
    {
      "cell_type": "code",
      "metadata": {
        "colab_type": "code",
        "id": "xoiyz-42HtJt",
        "pycharm": {
          "is_executing": true
        },
        "colab": {
          "base_uri": "https://localhost:8080/",
          "height": 272
        },
        "outputId": "3ee5d533-cb19-4762-ac69-9608c9510b7a"
      },
      "source": [
        "# let's do the same for the evaluation on the train set\n",
        "# repeat for train error\n",
        "num_repeats = 20\n",
        "\n",
        "\n",
        "X = email_data['Content'].values\n",
        "y = email_data['Label'].values == 'S'  # 1 Spam, 0 for Ham\n",
        "\n",
        "\n",
        "def run_train_and_test_on_train(X, y, train_ratio, test_size, email_pipeline):\n",
        "\n",
        "    # pre-process\n",
        "    X_train, X_test, y_train, y_test = train_test_split(X, y, test_size=test_size)\n",
        "    num_train = int(train_ratio * X_train.shape[0])\n",
        "    X_train = X_train[:num_train]\n",
        "    y_train = y_train[:num_train]\n",
        "    \"\"\"\n",
        "    Your Code Here\n",
        "    \"\"\"\n",
        "    # transform the data\n",
        "    X_train_augmented = email_pipeline.fit_transform(X_train)\n",
        "    X_test_augmented = email_pipeline.transform(X_train)\n",
        "    # train\n",
        "    my_classifier = MlabNaiveBayes(dist_type=\"multinomial_smooth\", num_classes=2, use_log_prob=True)\n",
        "    my_classifier.fit(X_train_augmented, y_train)\n",
        "    # test\n",
        "    y_pred = my_classifier.predict(X_test_augmented)\n",
        "    \n",
        "    # calculate error\n",
        "    err = calc_err(y_pred, y_train)\n",
        "    return err\n",
        "\n",
        "train_errors = np.zeros(len(train_ratios))\n",
        "train_errors_std = np.zeros(len(train_ratios))\n",
        "\n",
        "for i_grid, train_ratio in enumerate(train_ratios):\n",
        "    current_errors = np.zeros(num_repeats)\n",
        "    print(\"\\n current train ratio: {}\".format(train_ratio))\n",
        "    current_errors = np.zeros(num_repeats)\n",
        "    for i_rep in tqdm(range(num_repeats)):\n",
        "        current_errors[i_rep] = run_train_and_test_on_train(X, y, train_ratio, test_size, email_pipeline)\n",
        "    train_errors[i_grid] = np.mean(current_errors)\n",
        "    train_errors_std[i_grid] = np.std(current_errors)\n"
      ],
      "execution_count": null,
      "outputs": [
        {
          "output_type": "stream",
          "text": [
            "\r  0%|          | 0/20 [00:00<?, ?it/s]"
          ],
          "name": "stderr"
        },
        {
          "output_type": "stream",
          "text": [
            "\n",
            " current train ratio: 0.1\n"
          ],
          "name": "stdout"
        },
        {
          "output_type": "stream",
          "text": [
            "100%|██████████| 20/20 [00:24<00:00,  1.24s/it]\n",
            "  0%|          | 0/20 [00:00<?, ?it/s]"
          ],
          "name": "stderr"
        },
        {
          "output_type": "stream",
          "text": [
            "\n",
            " current train ratio: 0.2\n"
          ],
          "name": "stdout"
        },
        {
          "output_type": "stream",
          "text": [
            "100%|██████████| 20/20 [00:48<00:00,  2.44s/it]\n",
            "  0%|          | 0/20 [00:00<?, ?it/s]"
          ],
          "name": "stderr"
        },
        {
          "output_type": "stream",
          "text": [
            "\n",
            " current train ratio: 0.4\n"
          ],
          "name": "stdout"
        },
        {
          "output_type": "stream",
          "text": [
            "100%|██████████| 20/20 [01:38<00:00,  4.94s/it]\n",
            "  0%|          | 0/20 [00:00<?, ?it/s]"
          ],
          "name": "stderr"
        },
        {
          "output_type": "stream",
          "text": [
            "\n",
            " current train ratio: 0.8\n"
          ],
          "name": "stdout"
        },
        {
          "output_type": "stream",
          "text": [
            "100%|██████████| 20/20 [03:18<00:00,  9.94s/it]\n",
            "  0%|          | 0/20 [00:00<?, ?it/s]"
          ],
          "name": "stderr"
        },
        {
          "output_type": "stream",
          "text": [
            "\n",
            " current train ratio: 1\n"
          ],
          "name": "stdout"
        },
        {
          "output_type": "stream",
          "text": [
            "100%|██████████| 20/20 [04:10<00:00, 12.55s/it]\n"
          ],
          "name": "stderr"
        }
      ]
    },
    {
      "cell_type": "code",
      "metadata": {
        "colab_type": "code",
        "id": "DaeEagMwHtJw",
        "pycharm": {
          "is_executing": true
        },
        "colab": {
          "base_uri": "https://localhost:8080/",
          "height": 513
        },
        "outputId": "9b0a2b17-b5a7-40ec-abd9-883b090b13a7"
      },
      "source": [
        "# plot the 2 graphs\n",
        "fig = plt.figure(figsize=(10, 8))\n",
        "ax = fig.add_subplot(111)\n",
        "ax.errorbar(train_ratios, 100*test_errors, yerr=100*test_errors_std, uplims=True, lolims=True, label=\"test_error\")\n",
        "ax.errorbar(train_ratios, 100*train_errors, yerr=100*train_errors_std, uplims=True, lolims=True, label=\"train_error\")\n",
        "ax.set_xlabel(\"train size\")\n",
        "ax.set_ylabel(\"error %\")\n",
        "ax.legend()\n",
        "ax.grid()\n",
        "ax.set_title(\"Test & Train Error vs. Train Size (N={} Repeats)\".format(num_repeats))\n",
        "plt.show()"
      ],
      "execution_count": null,
      "outputs": [
        {
          "output_type": "display_data",
          "data": {
            "image/png": "[encoded data removed]",
            "text/plain": [
              "<Figure size 720x576 with 1 Axes>"
            ]
          },
          "metadata": {
            "tags": [],
            "needs_background": "light"
          }
        }
      ]
    },
    {
      "cell_type": "markdown",
      "metadata": {
        "colab_type": "text",
        "id": "vyG5AAH8HtJ6"
      },
      "source": [
        "## <img src=\"https://img.icons8.com/dusk/64/000000/prize.png\" style=\"height:50px;display:inline\"> Credits\n",
        "* Icons from <a href=\"https://icons8.com/\">Icon8.com</a> - https://icons8.com\n",
        "* Datasets from <a href=\"https://www.kaggle.com/\">Kaggle</a> - https://www.kaggle.com/\n",
        "* Notebook made by <a href=\"mailto:taldanielm@campus.technion.ac.il\">Tal Daniel</a> (August 2019)\n",
        "* Updates: Ron Amit (March 2020)"
      ]
    }
  ]
}