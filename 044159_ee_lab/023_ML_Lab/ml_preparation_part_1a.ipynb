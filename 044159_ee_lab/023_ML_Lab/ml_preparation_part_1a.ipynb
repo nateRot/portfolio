{
  "nbformat": 4,
  "nbformat_minor": 0,
  "metadata": {
    "kernelspec": {
      "display_name": "Python 3",
      "language": "python",
      "name": "python3"
    },
    "language_info": {
      "codemirror_mode": {
        "name": "ipython",
        "version": 3
      },
      "file_extension": ".py",
      "mimetype": "text/x-python",
      "name": "python",
      "nbconvert_exporter": "python",
      "pygments_lexer": "ipython3",
      "version": "3.7.6-final"
    },
    "pycharm": {
      "stem_cell": {
        "cell_type": "raw",
        "metadata": {
          "collapsed": false
        },
        "source": []
      }
    },
    "colab": {
      "name": "Copy of ml_preparation_part_1a.ipynb",
      "provenance": [],
      "collapsed_sections": [
        "eisEmBTtYFFY",
        "olZ8MQ72YFFl",
        "twa04hpLYFFw",
        "bxOH250q2ao5",
        "8rYxmRYe2apO"
      ]
    }
  },
  "cells": [
    {
      "cell_type": "markdown",
      "metadata": {
        "id": "-osqQ3X_YFEt",
        "colab_type": "text"
      },
      "source": [
        "# <img src=\"https://img.icons8.com/dusk/64/000000/mind-map.png\" style=\"height:50px;display:inline\"> EE 044165/6 - Technion - Intro to Machine Learning Lab\n",
        "\n",
        "## Part 0 - Preparation - NumPy, Pandas, MatPlotLib, Scikit-Learn\n",
        "\n",
        "### <img src=\"https://img.icons8.com/bubbles/50/000000/checklist.png\" style=\"height:50px;display:inline\"> Agenda\n",
        "\n",
        "* Getting to Know Python\n",
        "    * NumPy\n",
        "    * Pandas\n",
        "    * MatPlotLib\n",
        "    * Scikit-Learn\n",
        "\n",
        "#### Notes\n",
        "* To run a code block, select it (with mouse) and press Ctrl + Enter to run it or Shift + Enter to run it and move on to the next block.\n",
        "* To get description of functions and classes, run `help(name_of_function)`.\n",
        "* To dislplay lines in the code block, select the block, press ESC and then 'L'.\n",
        "* To quick view a function description, write its name and press Shift + TAB.\n",
        "    * For example, in a code block, write `sum` and press Shift + TAB."
      ]
    },
    {
      "cell_type": "markdown",
      "metadata": {
        "id": "Fsa9S4NuYFEu",
        "colab_type": "text"
      },
      "source": [
        "##  <img src=\"https://img.icons8.com/color/48/000000/python.png\" style=\"height:50px;display:inline\"> Before you start\n",
        "Make sure you are familiar with basic Python syntax and its basic data structures (lists, strings and dictionaries).\n",
        "Resources: https://docs.python.org/3/tutorial/introduction.html, https://docs.python.org/3/tutorial/controlflow.html, and  https://docs.python.org/3/tutorial/datastructures.html."
      ]
    },
    {
      "cell_type": "markdown",
      "metadata": {
        "id": "QqVRNkhnYFEv",
        "colab_type": "text"
      },
      "source": [
        "##   <img src=\"https://img.icons8.com/carbon-copy/100/000000/counter.png\" style=\"height:50px;display:inline\"> Counter\n",
        "\n",
        "A counter tool supports convenient counting of of elements in lists.\n"
      ]
    },
    {
      "cell_type": "code",
      "metadata": {
        "pycharm": {
          "name": "#%%\n"
        },
        "tags": [],
        "id": "Me0WU99ZYFEw",
        "colab_type": "code",
        "colab": {
          "base_uri": "https://localhost:8080/",
          "height": 34
        },
        "outputId": "3d8e9c79-9143-4d8c-ddaf-03a606dc3387"
      },
      "source": [
        "from collections import Counter\n",
        "colors = ['red', 'blue', 'red', 'green', 'blue', 'blue']\n",
        "cnt = Counter(colors)\n",
        "print(cnt)"
      ],
      "execution_count": 2,
      "outputs": [
        {
          "output_type": "stream",
          "text": [
            "Counter({'blue': 3, 'red': 2, 'green': 1})\n"
          ],
          "name": "stdout"
        }
      ]
    },
    {
      "cell_type": "markdown",
      "metadata": {
        "id": "X7ZY1IwhYFE1",
        "colab_type": "text"
      },
      "source": [
        "####  The output is an unordered collection where elements are stored as dictionary keys and their counts are stored as dictionary values."
      ]
    },
    {
      "cell_type": "code",
      "metadata": {
        "pycharm": {
          "name": "#%%\n"
        },
        "tags": [],
        "id": "H1_-tIHQYFE1",
        "colab_type": "code",
        "colab": {
          "base_uri": "https://localhost:8080/",
          "height": 34
        },
        "outputId": "4152bdf3-e15e-4ca4-a4c2-d54a519d2b3d"
      },
      "source": [
        "print(cnt['red'])"
      ],
      "execution_count": 4,
      "outputs": [
        {
          "output_type": "stream",
          "text": [
            "2\n"
          ],
          "name": "stdout"
        }
      ]
    },
    {
      "cell_type": "markdown",
      "metadata": {
        "id": "k31qPPwvYFE5",
        "colab_type": "text"
      },
      "source": [
        "## <img src=\"https://img.icons8.com/clouds/100/000000/calculator.png\" style=\"height:50px;display:inline\"> NumPy\n",
        "\n",
        "NumPy is the fundamental package for scientific computing with Python. It contains among other things:\n",
        "\n",
        "* A powerful N-dimensional array object\n",
        "\n",
        "* Useful linear algebra, Fourier transform, and random number capabilities\n"
      ]
    },
    {
      "cell_type": "code",
      "metadata": {
        "pycharm": {
          "is_executing": false
        },
        "id": "kRDA3CyRYFE6",
        "colab_type": "code",
        "colab": {}
      },
      "source": [
        "# import numpy\n",
        "import numpy as np"
      ],
      "execution_count": 3,
      "outputs": []
    },
    {
      "cell_type": "markdown",
      "metadata": {
        "id": "pmG2zlfpYFE9",
        "colab_type": "text"
      },
      "source": [
        "### Numpy Array\n",
        "#### 1D List -> NumPy Array"
      ]
    },
    {
      "cell_type": "code",
      "metadata": {
        "pycharm": {
          "is_executing": false
        },
        "tags": [],
        "id": "yG7U1RYXYFE-",
        "colab_type": "code",
        "colab": {
          "base_uri": "https://localhost:8080/",
          "height": 51
        },
        "outputId": "c28d03b5-5024-489c-d8c0-1d65d82b149c"
      },
      "source": [
        "vec = [1, 2, 3] # list\n",
        "np_vec = np.array(vec) # array\n",
        "print(type(np_vec)) # check the type\n",
        "print(np_vec) # print the array"
      ],
      "execution_count": 5,
      "outputs": [
        {
          "output_type": "stream",
          "text": [
            "<class 'numpy.ndarray'>\n",
            "[1 2 3]\n"
          ],
          "name": "stdout"
        }
      ]
    },
    {
      "cell_type": "markdown",
      "metadata": {
        "id": "auq6BhpQYFFB",
        "colab_type": "text"
      },
      "source": [
        "#### 2D Matrix -> Numpy Array"
      ]
    },
    {
      "cell_type": "code",
      "metadata": {
        "pycharm": {
          "is_executing": false
        },
        "scrolled": true,
        "tags": [],
        "id": "eZtiEZM2YFFC",
        "colab_type": "code",
        "colab": {
          "base_uri": "https://localhost:8080/",
          "height": 51
        },
        "outputId": "273081ec-ec7b-46b9-aa65-bfa61b7166e0"
      },
      "source": [
        "mat = [[2, 6, 8], [3, 7, 0]] # 2d list\n",
        "np_mat = np.array(mat) # 2d ndarray\n",
        "print(np_mat) # print the matrix"
      ],
      "execution_count": 6,
      "outputs": [
        {
          "output_type": "stream",
          "text": [
            "[[2 6 8]\n",
            " [3 7 0]]\n"
          ],
          "name": "stdout"
        }
      ]
    },
    {
      "cell_type": "markdown",
      "metadata": {
        "id": "e4a2KHQTYFFF",
        "colab_type": "text"
      },
      "source": [
        "#### Zeros, Ones, Eye"
      ]
    },
    {
      "cell_type": "code",
      "metadata": {
        "pycharm": {
          "is_executing": false
        },
        "tags": [],
        "id": "hA9vKh49YFFG",
        "colab_type": "code",
        "colab": {
          "base_uri": "https://localhost:8080/",
          "height": 221
        },
        "outputId": "07392b4d-3d37-47e1-c9b2-41d09649384d"
      },
      "source": [
        "# zeros, just like matlab\n",
        "zero_arr = np.zeros((3,4))\n",
        "print(\"zeros:\")\n",
        "print(zero_arr)\n",
        "# ones, just like matlab\n",
        "print(\"ones:\")\n",
        "one_arr = np.ones((3,4))\n",
        "print(one_arr)\n",
        "# identity matrix, just like matlab\n",
        "print(\"eye:\")\n",
        "eye_arr = np.eye(3)\n",
        "print(eye_arr)"
      ],
      "execution_count": 7,
      "outputs": [
        {
          "output_type": "stream",
          "text": [
            "zeros:\n",
            "[[0. 0. 0. 0.]\n",
            " [0. 0. 0. 0.]\n",
            " [0. 0. 0. 0.]]\n",
            "ones:\n",
            "[[1. 1. 1. 1.]\n",
            " [1. 1. 1. 1.]\n",
            " [1. 1. 1. 1.]]\n",
            "eye:\n",
            "[[1. 0. 0.]\n",
            " [0. 1. 0.]\n",
            " [0. 0. 1.]]\n"
          ],
          "name": "stdout"
        }
      ]
    },
    {
      "cell_type": "markdown",
      "metadata": {
        "id": "iz4rOw37YFFL",
        "colab_type": "text"
      },
      "source": [
        "### Random\n",
        "#### Create Random Arrays and Numbers with NumPy"
      ]
    },
    {
      "cell_type": "code",
      "metadata": {
        "pycharm": {
          "is_executing": false
        },
        "id": "hh1WDT7eYFFL",
        "colab_type": "code",
        "colab": {
          "base_uri": "https://localhost:8080/",
          "height": 34
        },
        "outputId": "4508f272-acf3-4980-8b69-8ad22ab5a50f"
      },
      "source": [
        "np.random.randn(5) # 5x1 array with numbers from N(0,1)"
      ],
      "execution_count": 8,
      "outputs": [
        {
          "output_type": "execute_result",
          "data": {
            "text/plain": [
              "array([ 1.07155448,  0.36955765,  0.23950054, -1.05506273,  1.10244944])"
            ]
          },
          "metadata": {
            "tags": []
          },
          "execution_count": 8
        }
      ]
    },
    {
      "cell_type": "code",
      "metadata": {
        "pycharm": {
          "is_executing": false
        },
        "id": "z0BLJ9RfYFFO",
        "colab_type": "code",
        "colab": {
          "base_uri": "https://localhost:8080/",
          "height": 68
        },
        "outputId": "81f40013-6d7e-48d1-ff56-a84cc1dbf8c8"
      },
      "source": [
        "np.random.randn(3,4) # 3x4 matrix with numbers from N(0,1)"
      ],
      "execution_count": 9,
      "outputs": [
        {
          "output_type": "execute_result",
          "data": {
            "text/plain": [
              "array([[-1.44727522,  2.05057387, -1.05632202, -0.46213389],\n",
              "       [-0.82544457,  0.84151949, -0.15168365,  0.15017479],\n",
              "       [ 0.28997525,  0.59451715,  0.46486489,  0.06304682]])"
            ]
          },
          "metadata": {
            "tags": []
          },
          "execution_count": 9
        }
      ]
    },
    {
      "cell_type": "code",
      "metadata": {
        "pycharm": {
          "is_executing": false
        },
        "id": "5-AgY-6xYFFS",
        "colab_type": "code",
        "colab": {
          "base_uri": "https://localhost:8080/",
          "height": 34
        },
        "outputId": "f1df6983-d4a5-443e-d4bb-e86d10e8772b"
      },
      "source": [
        "np.random.randint(5, 15) # random integer between start (5) and end (15)"
      ],
      "execution_count": 10,
      "outputs": [
        {
          "output_type": "execute_result",
          "data": {
            "text/plain": [
              "10"
            ]
          },
          "metadata": {
            "tags": []
          },
          "execution_count": 10
        }
      ]
    },
    {
      "cell_type": "code",
      "metadata": {
        "pycharm": {
          "is_executing": false
        },
        "id": "dW4_t-PeYFFV",
        "colab_type": "code",
        "colab": {
          "base_uri": "https://localhost:8080/",
          "height": 34
        },
        "outputId": "de0f404c-740c-4ebd-c01b-fb1ddd0d0295"
      },
      "source": [
        "np.random.randint(5, 150, 5) # multiple (5) random numbers between specified range"
      ],
      "execution_count": 11,
      "outputs": [
        {
          "output_type": "execute_result",
          "data": {
            "text/plain": [
              "array([91, 53, 94, 19, 13])"
            ]
          },
          "metadata": {
            "tags": []
          },
          "execution_count": 11
        }
      ]
    },
    {
      "cell_type": "markdown",
      "metadata": {
        "id": "eisEmBTtYFFY",
        "colab_type": "text"
      },
      "source": [
        "### Series of Numbers\n",
        "#### arange, linspace"
      ]
    },
    {
      "cell_type": "code",
      "metadata": {
        "pycharm": {
          "is_executing": false
        },
        "id": "UJlU8qFZYFFZ",
        "colab_type": "code",
        "colab": {
          "base_uri": "https://localhost:8080/",
          "height": 0
        },
        "outputId": "56da6add-a26f-4abb-eaca-3ee6aa894fa8"
      },
      "source": [
        "np.arange(3, 12) # 3, 4..., 11"
      ],
      "execution_count": 12,
      "outputs": [
        {
          "output_type": "execute_result",
          "data": {
            "text/plain": [
              "array([ 3,  4,  5,  6,  7,  8,  9, 10, 11])"
            ]
          },
          "metadata": {
            "tags": []
          },
          "execution_count": 12
        }
      ]
    },
    {
      "cell_type": "code",
      "metadata": {
        "pycharm": {
          "is_executing": false
        },
        "id": "oaP91KgwYFFc",
        "colab_type": "code",
        "colab": {
          "base_uri": "https://localhost:8080/",
          "height": 0
        },
        "outputId": "e9782322-39de-433e-f015-ebafe19e4147"
      },
      "source": [
        "np.arange(3, 12, 2) # with a step of 2"
      ],
      "execution_count": 13,
      "outputs": [
        {
          "output_type": "execute_result",
          "data": {
            "text/plain": [
              "array([ 3,  5,  7,  9, 11])"
            ]
          },
          "metadata": {
            "tags": []
          },
          "execution_count": 13
        }
      ]
    },
    {
      "cell_type": "code",
      "metadata": {
        "pycharm": {
          "is_executing": false
        },
        "id": "vehAuIkrYFFf",
        "colab_type": "code",
        "colab": {
          "base_uri": "https://localhost:8080/",
          "height": 0
        },
        "outputId": "f4ace901-5d8b-4932-b5b0-91ff34132b21"
      },
      "source": [
        "np.linspace(2, 5) # as in matlab default count is 50 -- third argument"
      ],
      "execution_count": 14,
      "outputs": [
        {
          "output_type": "execute_result",
          "data": {
            "text/plain": [
              "array([2.        , 2.06122449, 2.12244898, 2.18367347, 2.24489796,\n",
              "       2.30612245, 2.36734694, 2.42857143, 2.48979592, 2.55102041,\n",
              "       2.6122449 , 2.67346939, 2.73469388, 2.79591837, 2.85714286,\n",
              "       2.91836735, 2.97959184, 3.04081633, 3.10204082, 3.16326531,\n",
              "       3.2244898 , 3.28571429, 3.34693878, 3.40816327, 3.46938776,\n",
              "       3.53061224, 3.59183673, 3.65306122, 3.71428571, 3.7755102 ,\n",
              "       3.83673469, 3.89795918, 3.95918367, 4.02040816, 4.08163265,\n",
              "       4.14285714, 4.20408163, 4.26530612, 4.32653061, 4.3877551 ,\n",
              "       4.44897959, 4.51020408, 4.57142857, 4.63265306, 4.69387755,\n",
              "       4.75510204, 4.81632653, 4.87755102, 4.93877551, 5.        ])"
            ]
          },
          "metadata": {
            "tags": []
          },
          "execution_count": 14
        }
      ]
    },
    {
      "cell_type": "code",
      "metadata": {
        "pycharm": {
          "is_executing": false
        },
        "id": "bMYZaD3IYFFi",
        "colab_type": "code",
        "colab": {
          "base_uri": "https://localhost:8080/",
          "height": 0
        },
        "outputId": "3907b1a1-994f-45d4-c0c7-57950795a7a9"
      },
      "source": [
        "np.linspace(2, 5, 10) # third argument specifies the count of numbers"
      ],
      "execution_count": 15,
      "outputs": [
        {
          "output_type": "execute_result",
          "data": {
            "text/plain": [
              "array([2.        , 2.33333333, 2.66666667, 3.        , 3.33333333,\n",
              "       3.66666667, 4.        , 4.33333333, 4.66666667, 5.        ])"
            ]
          },
          "metadata": {
            "tags": []
          },
          "execution_count": 15
        }
      ]
    },
    {
      "cell_type": "markdown",
      "metadata": {
        "id": "olZ8MQ72YFFl",
        "colab_type": "text"
      },
      "source": [
        "### NumPy Operations\n",
        "\n",
        "Very similar to MATLAB"
      ]
    },
    {
      "cell_type": "code",
      "metadata": {
        "pycharm": {
          "is_executing": false
        },
        "tags": [],
        "id": "HEuuC9wuYFFm",
        "colab_type": "code",
        "colab": {
          "base_uri": "https://localhost:8080/",
          "height": 0
        },
        "outputId": "22e0f5df-0f9e-494b-ba09-b6b7312e18ed"
      },
      "source": [
        "# dimensions of arrays\n",
        "print(np_vec.shape)\n",
        "print(np_mat.shape)"
      ],
      "execution_count": 16,
      "outputs": [
        {
          "output_type": "stream",
          "text": [
            "(3,)\n",
            "(2, 3)\n"
          ],
          "name": "stdout"
        }
      ]
    },
    {
      "cell_type": "code",
      "metadata": {
        "pycharm": {
          "is_executing": false
        },
        "tags": [],
        "id": "ptqra98wYFFp",
        "colab_type": "code",
        "colab": {
          "base_uri": "https://localhost:8080/",
          "height": 0
        },
        "outputId": "ea0384f8-4b22-42fe-fa26-89711a753bc1"
      },
      "source": [
        "# maximum and minimum\n",
        "print(\"max: {}\".format(np_mat.max()))\n",
        "print(\"min: {}\".format(np_mat.min()))"
      ],
      "execution_count": 17,
      "outputs": [
        {
          "output_type": "stream",
          "text": [
            "max: 8\n",
            "min: 0\n"
          ],
          "name": "stdout"
        }
      ]
    },
    {
      "cell_type": "code",
      "metadata": {
        "pycharm": {
          "is_executing": false
        },
        "tags": [],
        "id": "GOHAKfztYFFt",
        "colab_type": "code",
        "colab": {
          "base_uri": "https://localhost:8080/",
          "height": 0
        },
        "outputId": "f26c8801-1551-44f0-9b8e-c948160d1b12"
      },
      "source": [
        "# reshape\n",
        "print(np_mat)\n",
        "print(\"reshape:\")\n",
        "print(np_mat.reshape(3,2)) # change dimensions -- only if the total number of values remains the same"
      ],
      "execution_count": 18,
      "outputs": [
        {
          "output_type": "stream",
          "text": [
            "[[2 6 8]\n",
            " [3 7 0]]\n",
            "reshape:\n",
            "[[2 6]\n",
            " [8 3]\n",
            " [7 0]]\n"
          ],
          "name": "stdout"
        }
      ]
    },
    {
      "cell_type": "markdown",
      "metadata": {
        "id": "twa04hpLYFFw",
        "colab_type": "text"
      },
      "source": [
        "### Numpy Array Operations\n",
        "#### Operations between arrays and scalars"
      ]
    },
    {
      "cell_type": "code",
      "metadata": {
        "pycharm": {
          "is_executing": false
        },
        "tags": [],
        "id": "vWf1DQnDYFFw",
        "colab_type": "code",
        "colab": {
          "base_uri": "https://localhost:8080/",
          "height": 0
        },
        "outputId": "d7dbc61f-861f-4227-9859-41315b62fadf"
      },
      "source": [
        "a = np.array([3, 5, 4])\n",
        "\n",
        "print(\"a = \", a)\n",
        "\n",
        "print(\"a + 7 = \")\n",
        "print(a + 7) # add 7 to each element\n",
        "\n",
        "print(\"a * 3 = \") # multiply by 3 each element\n",
        "print(a * 3)\n",
        "\n",
        "print(\"a / 2 = \") # divide by 2 each element\n",
        "print(a / 2)\n",
        "\n",
        "print(\"square(a) = \")\n",
        "print(np.square(a)) # square() of each element, same dimensions\n",
        "\n",
        "print(\"sqrt(a) = \")\n",
        "print(np.sqrt(a)) # square root of each element, same dimensions\n",
        "\n",
        "print(\"sum(a) = \")\n",
        "print(np.sum(a)) # sum of all elements\n",
        "\n",
        "print(\"prod(a) = \")\n",
        "print(np.prod(a)) # multiplication product of all elements\n",
        "\n",
        "\n",
        "print(\"mean(a) = \")\n",
        "print(np.mean(a)) # mean of the array\n",
        "\n",
        "print(\"max(a) = \")\n",
        "print(np.max(a)) # max of the array\n",
        "\n",
        "print(\"argmax(a) = \")\n",
        "print(np.argmax(a)) # (first) index of the max of the array\n"
      ],
      "execution_count": 19,
      "outputs": [
        {
          "output_type": "stream",
          "text": [
            "a =  [3 5 4]\n",
            "a + 7 = \n",
            "[10 12 11]\n",
            "a * 3 = \n",
            "[ 9 15 12]\n",
            "a / 2 = \n",
            "[1.5 2.5 2. ]\n",
            "square(a) = \n",
            "[ 9 25 16]\n",
            "sqrt(a) = \n",
            "[1.73205081 2.23606798 2.        ]\n",
            "sum(a) = \n",
            "12\n",
            "prod(a) = \n",
            "60\n",
            "mean(a) = \n",
            "4.0\n",
            "max(a) = \n",
            "5\n",
            "argmax(a) = \n",
            "1\n"
          ],
          "name": "stdout"
        }
      ]
    },
    {
      "cell_type": "code",
      "metadata": {
        "pycharm": {
          "is_executing": false
        },
        "tags": [],
        "id": "bE8Z0ttcYFFz",
        "colab_type": "code",
        "colab": {
          "base_uri": "https://localhost:8080/",
          "height": 0
        },
        "outputId": "adadf63b-aa8a-4995-fb2a-a87d28506533"
      },
      "source": [
        "a1 = np.array([[1, 3], [4, 6]])\n",
        "print(\"a1 = \")\n",
        "print(a1)\n",
        "b1 = np.array([[0, 2], [3, 1]])\n",
        "print(\"b1 = \")\n",
        "print(b1)"
      ],
      "execution_count": 20,
      "outputs": [
        {
          "output_type": "stream",
          "text": [
            "a1 = \n",
            "[[1 3]\n",
            " [4 6]]\n",
            "b1 = \n",
            "[[0 2]\n",
            " [3 1]]\n"
          ],
          "name": "stdout"
        }
      ]
    },
    {
      "cell_type": "code",
      "metadata": {
        "pycharm": {
          "is_executing": false
        },
        "tags": [],
        "id": "ZVssZaSNYFF3",
        "colab_type": "code",
        "colab": {
          "base_uri": "https://localhost:8080/",
          "height": 0
        },
        "outputId": "4a4f58b6-c86a-434d-a78c-5431beb9da2e"
      },
      "source": [
        "print(\"a1 + b1 = \")\n",
        "print(a1 + b1)\n",
        "\n",
        "print(\"a1 * b1 = \")\n",
        "print(a1 * b1) # element-wise multiplication\n",
        "\n",
        "print(\"matrix multiplication: np.dot(a1, b1) = \")\n",
        "print(np.dot(a1, b1)) # matrix multiplication\n",
        "\n",
        "print(\"np.dot() is the same as using @: a1 @ b1 = \")\n",
        "print(a1 @ b1) # matrix multiplication"
      ],
      "execution_count": 21,
      "outputs": [
        {
          "output_type": "stream",
          "text": [
            "a1 + b1 = \n",
            "[[1 5]\n",
            " [7 7]]\n",
            "a1 * b1 = \n",
            "[[ 0  6]\n",
            " [12  6]]\n",
            "matrix multiplication: np.dot(a1, b1) = \n",
            "[[ 9  5]\n",
            " [18 14]]\n",
            "np.dot() is the same as using @: a1 @ b1 = \n",
            "[[ 9  5]\n",
            " [18 14]]\n"
          ],
          "name": "stdout"
        }
      ]
    },
    {
      "cell_type": "code",
      "metadata": {
        "pycharm": {
          "is_executing": false
        },
        "tags": [],
        "id": "dTD7XpsnYFF6",
        "colab_type": "code",
        "colab": {
          "base_uri": "https://localhost:8080/",
          "height": 0
        },
        "outputId": "0824da91-63ba-4686-a8b6-99e0dbbec30e"
      },
      "source": [
        "# element-wise comparison\n",
        "print(a > 2) # compare each and every element"
      ],
      "execution_count": 22,
      "outputs": [
        {
          "output_type": "stream",
          "text": [
            "[ True  True  True]\n"
          ],
          "name": "stdout"
        }
      ]
    },
    {
      "cell_type": "markdown",
      "metadata": {
        "id": "5SI0AT95YFF9",
        "colab_type": "text"
      },
      "source": [
        "### <img src=\"https://img.icons8.com/color/96/000000/deadlift.png\" style=\"height:50px;display:inline\"> Exercise 1\n",
        "\n",
        "Create 2 random matrices of the following shapes:\n",
        "* $a \\in \\mathcal{R}^{2 \\times 3} $\n",
        "* $b \\in \\mathcal{R}^{3 \\times 2} $\n",
        "\n",
        "And perform matrix multiplication."
      ]
    },
    {
      "cell_type": "code",
      "metadata": {
        "pycharm": {
          "is_executing": false
        },
        "tags": [],
        "id": "4HJ0tL8UYFF9",
        "colab_type": "code",
        "colab": {
          "base_uri": "https://localhost:8080/",
          "height": 102
        },
        "outputId": "fc562f8f-3c4d-4879-b6ba-c50d55fb2e62"
      },
      "source": [
        "a = np.random.randn(2,3)\n",
        "b = np.random.randn(3,2)\n",
        "print(a)\n",
        "print(b)"
      ],
      "execution_count": 23,
      "outputs": [
        {
          "output_type": "stream",
          "text": [
            "[[-0.75476102  1.62800346 -0.84118235]\n",
            " [ 0.0774486  -0.38408208  2.80909536]]\n",
            "[[-1.14117882  2.3363047 ]\n",
            " [ 0.63894279  0.03783194]\n",
            " [-1.58615945 -0.28700497]]\n"
          ],
          "name": "stdout"
        }
      ]
    },
    {
      "cell_type": "markdown",
      "metadata": {
        "id": "z7PT1sD1YFGA",
        "colab_type": "text"
      },
      "source": [
        "### Indexing, Slicing, Broadcasting"
      ]
    },
    {
      "cell_type": "code",
      "metadata": {
        "pycharm": {
          "is_executing": false
        },
        "tags": [],
        "id": "z3wOJ3otYFGB",
        "colab_type": "code",
        "colab": {
          "base_uri": "https://localhost:8080/",
          "height": 51
        },
        "outputId": "4d75bef0-4ab7-4a6e-c639-7eb2f99e675d"
      },
      "source": [
        "d1 = np.arange(25)\n",
        "print(d1)"
      ],
      "execution_count": 24,
      "outputs": [
        {
          "output_type": "stream",
          "text": [
            "[ 0  1  2  3  4  5  6  7  8  9 10 11 12 13 14 15 16 17 18 19 20 21 22 23\n",
            " 24]\n"
          ],
          "name": "stdout"
        }
      ]
    },
    {
      "cell_type": "code",
      "metadata": {
        "pycharm": {
          "is_executing": false
        },
        "tags": [],
        "id": "qoapgk33YFGE",
        "colab_type": "code",
        "colab": {
          "base_uri": "https://localhost:8080/",
          "height": 102
        },
        "outputId": "e689cbca-2cd8-4632-8b8a-588d4eccabf8"
      },
      "source": [
        "d2 = np.arange(25).reshape(5,5)\n",
        "print(d2)"
      ],
      "execution_count": 25,
      "outputs": [
        {
          "output_type": "stream",
          "text": [
            "[[ 0  1  2  3  4]\n",
            " [ 5  6  7  8  9]\n",
            " [10 11 12 13 14]\n",
            " [15 16 17 18 19]\n",
            " [20 21 22 23 24]]\n"
          ],
          "name": "stdout"
        }
      ]
    },
    {
      "cell_type": "code",
      "metadata": {
        "pycharm": {
          "is_executing": false
        },
        "id": "5e338XVjYFGH",
        "colab_type": "code",
        "colab": {
          "base_uri": "https://localhost:8080/",
          "height": 34
        },
        "outputId": "3d57be20-e488-4d9b-c5bc-98e1e778a910"
      },
      "source": [
        "# slicing\n",
        "d1[4:12] # slicing -- d1[start : end+1]"
      ],
      "execution_count": 26,
      "outputs": [
        {
          "output_type": "execute_result",
          "data": {
            "text/plain": [
              "array([ 4,  5,  6,  7,  8,  9, 10, 11])"
            ]
          },
          "metadata": {
            "tags": []
          },
          "execution_count": 26
        }
      ]
    },
    {
      "cell_type": "code",
      "metadata": {
        "pycharm": {
          "is_executing": false
        },
        "tags": [],
        "id": "DNu8H-W3YFGJ",
        "colab_type": "code",
        "colab": {
          "base_uri": "https://localhost:8080/",
          "height": 85
        },
        "outputId": "d5777e4e-ef39-4eb0-af0b-4bed534a1440"
      },
      "source": [
        "print(\"d1[4: ] = \")\n",
        "print(d1[4: ])\n",
        "print(\"d1[:13] = \")\n",
        "print(d1[:13])"
      ],
      "execution_count": 27,
      "outputs": [
        {
          "output_type": "stream",
          "text": [
            "d1[4: ] = \n",
            "[ 4  5  6  7  8  9 10 11 12 13 14 15 16 17 18 19 20 21 22 23 24]\n",
            "d1[:13] = \n",
            "[ 0  1  2  3  4  5  6  7  8  9 10 11 12]\n"
          ],
          "name": "stdout"
        }
      ]
    },
    {
      "cell_type": "code",
      "metadata": {
        "pycharm": {
          "is_executing": false
        },
        "tags": [],
        "id": "RnaBWNDgYFGM",
        "colab_type": "code",
        "colab": {
          "base_uri": "https://localhost:8080/",
          "height": 119
        },
        "outputId": "56d2092e-866e-4a87-87ea-676155ad54f3"
      },
      "source": [
        "print(\"d2[0,0] = \")\n",
        "print(d2[0,0]) # d2[row, column]\n",
        "print(\"d2[2,] = \")\n",
        "print(d2[2,])\n",
        "print(\"d2[:, 3]\")\n",
        "print(d2[:, 3])"
      ],
      "execution_count": 28,
      "outputs": [
        {
          "output_type": "stream",
          "text": [
            "d2[0,0] = \n",
            "0\n",
            "d2[2,] = \n",
            "[10 11 12 13 14]\n",
            "d2[:, 3]\n",
            "[ 3  8 13 18 23]\n"
          ],
          "name": "stdout"
        }
      ]
    },
    {
      "cell_type": "code",
      "metadata": {
        "pycharm": {
          "is_executing": false
        },
        "scrolled": true,
        "tags": [],
        "id": "zdbMPJ03YFGO",
        "colab_type": "code",
        "colab": {
          "base_uri": "https://localhost:8080/",
          "height": 85
        },
        "outputId": "3bce3e8a-f4bc-4435-bba7-75d3c77a1da9"
      },
      "source": [
        "# broadcasting\n",
        "print(\"d1[0:5] = \")\n",
        "print(d1[0:5])\n",
        "print(\"d1[0:5] = -10\")\n",
        "d1[0:5] = -10 # broadcasting -- Change specific elements of the array\n",
        "print(d1[0:5])"
      ],
      "execution_count": 29,
      "outputs": [
        {
          "output_type": "stream",
          "text": [
            "d1[0:5] = \n",
            "[0 1 2 3 4]\n",
            "d1[0:5] = -10\n",
            "[-10 -10 -10 -10 -10]\n"
          ],
          "name": "stdout"
        }
      ]
    },
    {
      "cell_type": "code",
      "metadata": {
        "tags": [],
        "id": "03BJb2RcYFGS",
        "colab_type": "code",
        "colab": {
          "base_uri": "https://localhost:8080/",
          "height": 34
        },
        "outputId": "6b0c796d-9352-41ed-d539-3d1442ceae9d"
      },
      "source": [
        "# logical operations on vectors\n",
        "\n",
        "d3 = np.arange(8)\n",
        "print(d3 > 4)"
      ],
      "execution_count": 30,
      "outputs": [
        {
          "output_type": "stream",
          "text": [
            "[False False False False False  True  True  True]\n"
          ],
          "name": "stdout"
        }
      ]
    },
    {
      "cell_type": "code",
      "metadata": {
        "tags": [],
        "id": "VuTH6thtYFGV",
        "colab_type": "code",
        "colab": {
          "base_uri": "https://localhost:8080/",
          "height": 34
        },
        "outputId": "fce20bb8-b9ce-4718-c3a5-592e775f3414"
      },
      "source": [
        "# logical indexing\n",
        "\n",
        "print(d3[d3 > 4])"
      ],
      "execution_count": 31,
      "outputs": [
        {
          "output_type": "stream",
          "text": [
            "[5 6 7]\n"
          ],
          "name": "stdout"
        }
      ]
    },
    {
      "cell_type": "code",
      "metadata": {
        "tags": [],
        "id": "zsqvG0OJYFGX",
        "colab_type": "code",
        "colab": {
          "base_uri": "https://localhost:8080/",
          "height": 51
        },
        "outputId": "26dd43e0-f184-47c3-ebf6-28a724f32ac6"
      },
      "source": [
        "# logical operations between vectors\n",
        "v = np.logical_and(d3 > 4, d3 < 6)\n",
        "print(v)\n",
        "print(d3[v])"
      ],
      "execution_count": 32,
      "outputs": [
        {
          "output_type": "stream",
          "text": [
            "[False False False False False  True False False]\n",
            "[5]\n"
          ],
          "name": "stdout"
        }
      ]
    },
    {
      "cell_type": "markdown",
      "metadata": {
        "id": "9nEshMwvYFGa",
        "colab_type": "text"
      },
      "source": [
        "## <img src=\"https://img.icons8.com/ios/96/000000/panda-filled.png\" style=\"height:50px;display:inline\"> Pandas\n",
        "\n",
        "Python Library for Data manipulation and Analysis.\n",
        "\n",
        "The official guide to Pandas can be found [here](http://pandas-docs.github.io/pandas-docs-travis/10min.html)"
      ]
    },
    {
      "cell_type": "code",
      "metadata": {
        "pycharm": {
          "is_executing": false
        },
        "id": "2MCEHfK-YFGb",
        "colab_type": "code",
        "colab": {}
      },
      "source": [
        "# import pandas\n",
        "import pandas as pd"
      ],
      "execution_count": 33,
      "outputs": []
    },
    {
      "cell_type": "markdown",
      "metadata": {
        "colab_type": "text",
        "id": "of7RnZdI2aov"
      },
      "source": [
        "**Series** like a column in a spreadsheet."
      ]
    },
    {
      "cell_type": "code",
      "metadata": {
        "pycharm": {
          "is_executing": false
        },
        "id": "l6nEQ0rpYFGd",
        "colab_type": "code",
        "colab": {
          "base_uri": "https://localhost:8080/",
          "height": 102
        },
        "outputId": "3ed3a36c-8a68-4940-ef26-f739f0142b09"
      },
      "source": [
        "s = pd.Series([1,3,np.nan,'string'])\n",
        "s"
      ],
      "execution_count": 34,
      "outputs": [
        {
          "output_type": "execute_result",
          "data": {
            "text/plain": [
              "0         1\n",
              "1         3\n",
              "2       NaN\n",
              "3    string\n",
              "dtype: object"
            ]
          },
          "metadata": {
            "tags": []
          },
          "execution_count": 34
        }
      ]
    },
    {
      "cell_type": "markdown",
      "metadata": {
        "colab_type": "text",
        "id": "zNJeQjmW2ao2"
      },
      "source": [
        "**DataFrame** like a spreadsheet – a dictionary of Series objects"
      ]
    },
    {
      "cell_type": "code",
      "metadata": {
        "pycharm": {
          "is_executing": false
        },
        "id": "yk6oPaVaYFGh",
        "colab_type": "code",
        "colab": {
          "base_uri": "https://localhost:8080/",
          "height": 235
        },
        "outputId": "d1cde1ef-6b6a-4cc2-d374-24518bb41adf"
      },
      "source": [
        "data = [['ABC', -3.5, 0.01], ['ABC', -2.3, 0.12], ['DEF', 1.8, 0.03],\n",
        "['DEF', 3.7, 0.01], ['GHI', 0.04, 0.43], ['GHI', -0.1, 0.67]]\n",
        "\n",
        "df = pd.DataFrame(data, columns=['gene', 'log2FC', 'pval'])\n",
        "\n",
        "df"
      ],
      "execution_count": 35,
      "outputs": [
        {
          "output_type": "execute_result",
          "data": {
            "text/html": [
              "<div>\n",
              "<style scoped>\n",
              "    .dataframe tbody tr th:only-of-type {\n",
              "        vertical-align: middle;\n",
              "    }\n",
              "\n",
              "    .dataframe tbody tr th {\n",
              "        vertical-align: top;\n",
              "    }\n",
              "\n",
              "    .dataframe thead th {\n",
              "        text-align: right;\n",
              "    }\n",
              "</style>\n",
              "<table border=\"1\" class=\"dataframe\">\n",
              "  <thead>\n",
              "    <tr style=\"text-align: right;\">\n",
              "      <th></th>\n",
              "      <th>gene</th>\n",
              "      <th>log2FC</th>\n",
              "      <th>pval</th>\n",
              "    </tr>\n",
              "  </thead>\n",
              "  <tbody>\n",
              "    <tr>\n",
              "      <th>0</th>\n",
              "      <td>ABC</td>\n",
              "      <td>-3.50</td>\n",
              "      <td>0.01</td>\n",
              "    </tr>\n",
              "    <tr>\n",
              "      <th>1</th>\n",
              "      <td>ABC</td>\n",
              "      <td>-2.30</td>\n",
              "      <td>0.12</td>\n",
              "    </tr>\n",
              "    <tr>\n",
              "      <th>2</th>\n",
              "      <td>DEF</td>\n",
              "      <td>1.80</td>\n",
              "      <td>0.03</td>\n",
              "    </tr>\n",
              "    <tr>\n",
              "      <th>3</th>\n",
              "      <td>DEF</td>\n",
              "      <td>3.70</td>\n",
              "      <td>0.01</td>\n",
              "    </tr>\n",
              "    <tr>\n",
              "      <th>4</th>\n",
              "      <td>GHI</td>\n",
              "      <td>0.04</td>\n",
              "      <td>0.43</td>\n",
              "    </tr>\n",
              "    <tr>\n",
              "      <th>5</th>\n",
              "      <td>GHI</td>\n",
              "      <td>-0.10</td>\n",
              "      <td>0.67</td>\n",
              "    </tr>\n",
              "  </tbody>\n",
              "</table>\n",
              "</div>"
            ],
            "text/plain": [
              "  gene  log2FC  pval\n",
              "0  ABC   -3.50  0.01\n",
              "1  ABC   -2.30  0.12\n",
              "2  DEF    1.80  0.03\n",
              "3  DEF    3.70  0.01\n",
              "4  GHI    0.04  0.43\n",
              "5  GHI   -0.10  0.67"
            ]
          },
          "metadata": {
            "tags": []
          },
          "execution_count": 35
        }
      ]
    },
    {
      "cell_type": "markdown",
      "metadata": {
        "colab_type": "text",
        "id": "bxOH250q2ao5"
      },
      "source": [
        "### Viewing Data"
      ]
    },
    {
      "cell_type": "markdown",
      "metadata": {
        "colab_type": "text",
        "id": "uXVA81o72ao6"
      },
      "source": [
        "Display the top and bottom rows of the frame"
      ]
    },
    {
      "cell_type": "code",
      "metadata": {
        "pycharm": {
          "is_executing": false
        },
        "id": "jmPxj9fEYFGl",
        "colab_type": "code",
        "colab": {
          "base_uri": "https://localhost:8080/",
          "height": 0
        },
        "outputId": "c508fac6-67ba-4985-81d9-38c8d275da34"
      },
      "source": [
        "df.head()"
      ],
      "execution_count": 36,
      "outputs": [
        {
          "output_type": "execute_result",
          "data": {
            "text/html": [
              "<div>\n",
              "<style scoped>\n",
              "    .dataframe tbody tr th:only-of-type {\n",
              "        vertical-align: middle;\n",
              "    }\n",
              "\n",
              "    .dataframe tbody tr th {\n",
              "        vertical-align: top;\n",
              "    }\n",
              "\n",
              "    .dataframe thead th {\n",
              "        text-align: right;\n",
              "    }\n",
              "</style>\n",
              "<table border=\"1\" class=\"dataframe\">\n",
              "  <thead>\n",
              "    <tr style=\"text-align: right;\">\n",
              "      <th></th>\n",
              "      <th>gene</th>\n",
              "      <th>log2FC</th>\n",
              "      <th>pval</th>\n",
              "    </tr>\n",
              "  </thead>\n",
              "  <tbody>\n",
              "    <tr>\n",
              "      <th>0</th>\n",
              "      <td>ABC</td>\n",
              "      <td>-3.50</td>\n",
              "      <td>0.01</td>\n",
              "    </tr>\n",
              "    <tr>\n",
              "      <th>1</th>\n",
              "      <td>ABC</td>\n",
              "      <td>-2.30</td>\n",
              "      <td>0.12</td>\n",
              "    </tr>\n",
              "    <tr>\n",
              "      <th>2</th>\n",
              "      <td>DEF</td>\n",
              "      <td>1.80</td>\n",
              "      <td>0.03</td>\n",
              "    </tr>\n",
              "    <tr>\n",
              "      <th>3</th>\n",
              "      <td>DEF</td>\n",
              "      <td>3.70</td>\n",
              "      <td>0.01</td>\n",
              "    </tr>\n",
              "    <tr>\n",
              "      <th>4</th>\n",
              "      <td>GHI</td>\n",
              "      <td>0.04</td>\n",
              "      <td>0.43</td>\n",
              "    </tr>\n",
              "  </tbody>\n",
              "</table>\n",
              "</div>"
            ],
            "text/plain": [
              "  gene  log2FC  pval\n",
              "0  ABC   -3.50  0.01\n",
              "1  ABC   -2.30  0.12\n",
              "2  DEF    1.80  0.03\n",
              "3  DEF    3.70  0.01\n",
              "4  GHI    0.04  0.43"
            ]
          },
          "metadata": {
            "tags": []
          },
          "execution_count": 36
        }
      ]
    },
    {
      "cell_type": "code",
      "metadata": {
        "pycharm": {
          "is_executing": false
        },
        "id": "gkDz308-YFGn",
        "colab_type": "code",
        "colab": {
          "base_uri": "https://localhost:8080/",
          "height": 0
        },
        "outputId": "00a86cfc-dd6d-4b01-f083-d96c2660578b"
      },
      "source": [
        "df.tail()"
      ],
      "execution_count": 37,
      "outputs": [
        {
          "output_type": "execute_result",
          "data": {
            "text/html": [
              "<div>\n",
              "<style scoped>\n",
              "    .dataframe tbody tr th:only-of-type {\n",
              "        vertical-align: middle;\n",
              "    }\n",
              "\n",
              "    .dataframe tbody tr th {\n",
              "        vertical-align: top;\n",
              "    }\n",
              "\n",
              "    .dataframe thead th {\n",
              "        text-align: right;\n",
              "    }\n",
              "</style>\n",
              "<table border=\"1\" class=\"dataframe\">\n",
              "  <thead>\n",
              "    <tr style=\"text-align: right;\">\n",
              "      <th></th>\n",
              "      <th>gene</th>\n",
              "      <th>log2FC</th>\n",
              "      <th>pval</th>\n",
              "    </tr>\n",
              "  </thead>\n",
              "  <tbody>\n",
              "    <tr>\n",
              "      <th>1</th>\n",
              "      <td>ABC</td>\n",
              "      <td>-2.30</td>\n",
              "      <td>0.12</td>\n",
              "    </tr>\n",
              "    <tr>\n",
              "      <th>2</th>\n",
              "      <td>DEF</td>\n",
              "      <td>1.80</td>\n",
              "      <td>0.03</td>\n",
              "    </tr>\n",
              "    <tr>\n",
              "      <th>3</th>\n",
              "      <td>DEF</td>\n",
              "      <td>3.70</td>\n",
              "      <td>0.01</td>\n",
              "    </tr>\n",
              "    <tr>\n",
              "      <th>4</th>\n",
              "      <td>GHI</td>\n",
              "      <td>0.04</td>\n",
              "      <td>0.43</td>\n",
              "    </tr>\n",
              "    <tr>\n",
              "      <th>5</th>\n",
              "      <td>GHI</td>\n",
              "      <td>-0.10</td>\n",
              "      <td>0.67</td>\n",
              "    </tr>\n",
              "  </tbody>\n",
              "</table>\n",
              "</div>"
            ],
            "text/plain": [
              "  gene  log2FC  pval\n",
              "1  ABC   -2.30  0.12\n",
              "2  DEF    1.80  0.03\n",
              "3  DEF    3.70  0.01\n",
              "4  GHI    0.04  0.43\n",
              "5  GHI   -0.10  0.67"
            ]
          },
          "metadata": {
            "tags": []
          },
          "execution_count": 37
        }
      ]
    },
    {
      "cell_type": "code",
      "metadata": {
        "pycharm": {
          "is_executing": false
        },
        "scrolled": true,
        "id": "d3ta2jYoYFGq",
        "colab_type": "code",
        "colab": {
          "base_uri": "https://localhost:8080/",
          "height": 0
        },
        "outputId": "1fe4a18d-172b-4414-eb66-7e337b514237"
      },
      "source": [
        "df.tail(2)"
      ],
      "execution_count": 38,
      "outputs": [
        {
          "output_type": "execute_result",
          "data": {
            "text/html": [
              "<div>\n",
              "<style scoped>\n",
              "    .dataframe tbody tr th:only-of-type {\n",
              "        vertical-align: middle;\n",
              "    }\n",
              "\n",
              "    .dataframe tbody tr th {\n",
              "        vertical-align: top;\n",
              "    }\n",
              "\n",
              "    .dataframe thead th {\n",
              "        text-align: right;\n",
              "    }\n",
              "</style>\n",
              "<table border=\"1\" class=\"dataframe\">\n",
              "  <thead>\n",
              "    <tr style=\"text-align: right;\">\n",
              "      <th></th>\n",
              "      <th>gene</th>\n",
              "      <th>log2FC</th>\n",
              "      <th>pval</th>\n",
              "    </tr>\n",
              "  </thead>\n",
              "  <tbody>\n",
              "    <tr>\n",
              "      <th>4</th>\n",
              "      <td>GHI</td>\n",
              "      <td>0.04</td>\n",
              "      <td>0.43</td>\n",
              "    </tr>\n",
              "    <tr>\n",
              "      <th>5</th>\n",
              "      <td>GHI</td>\n",
              "      <td>-0.10</td>\n",
              "      <td>0.67</td>\n",
              "    </tr>\n",
              "  </tbody>\n",
              "</table>\n",
              "</div>"
            ],
            "text/plain": [
              "  gene  log2FC  pval\n",
              "4  GHI    0.04  0.43\n",
              "5  GHI   -0.10  0.67"
            ]
          },
          "metadata": {
            "tags": []
          },
          "execution_count": 38
        }
      ]
    },
    {
      "cell_type": "markdown",
      "metadata": {
        "colab_type": "text",
        "id": "PiTTlTmZ2apF"
      },
      "source": [
        "Display the index, clumns and the underlying numpy data"
      ]
    },
    {
      "cell_type": "code",
      "metadata": {
        "pycharm": {
          "is_executing": false
        },
        "id": "5IHiBECIYFGt",
        "colab_type": "code",
        "colab": {
          "base_uri": "https://localhost:8080/",
          "height": 0
        },
        "outputId": "632ec7de-e022-412f-fbed-65eb3072e87a"
      },
      "source": [
        "df['log2FC'] # df.log2FC"
      ],
      "execution_count": 39,
      "outputs": [
        {
          "output_type": "execute_result",
          "data": {
            "text/plain": [
              "0   -3.50\n",
              "1   -2.30\n",
              "2    1.80\n",
              "3    3.70\n",
              "4    0.04\n",
              "5   -0.10\n",
              "Name: log2FC, dtype: float64"
            ]
          },
          "metadata": {
            "tags": []
          },
          "execution_count": 39
        }
      ]
    },
    {
      "cell_type": "code",
      "metadata": {
        "colab_type": "code",
        "id": "ho_Tj3382apJ",
        "pycharm": {
          "is_executing": false
        },
        "colab": {
          "base_uri": "https://localhost:8080/",
          "height": 0
        },
        "outputId": "80b963fd-f047-41b8-8c27-ae26a4387e0d"
      },
      "source": [
        "df.columns"
      ],
      "execution_count": 40,
      "outputs": [
        {
          "output_type": "execute_result",
          "data": {
            "text/plain": [
              "Index(['gene', 'log2FC', 'pval'], dtype='object')"
            ]
          },
          "metadata": {
            "tags": []
          },
          "execution_count": 40
        }
      ]
    },
    {
      "cell_type": "code",
      "metadata": {
        "colab_type": "code",
        "id": "VkLyvrJ12apM",
        "pycharm": {
          "is_executing": false
        },
        "colab": {
          "base_uri": "https://localhost:8080/",
          "height": 0
        },
        "outputId": "8da6153b-5ff0-40bc-c899-7cc8f537870d"
      },
      "source": [
        "df.values"
      ],
      "execution_count": 41,
      "outputs": [
        {
          "output_type": "execute_result",
          "data": {
            "text/plain": [
              "array([['ABC', -3.5, 0.01],\n",
              "       ['ABC', -2.3, 0.12],\n",
              "       ['DEF', 1.8, 0.03],\n",
              "       ['DEF', 3.7, 0.01],\n",
              "       ['GHI', 0.04, 0.43],\n",
              "       ['GHI', -0.1, 0.67]], dtype=object)"
            ]
          },
          "metadata": {
            "tags": []
          },
          "execution_count": 41
        }
      ]
    },
    {
      "cell_type": "markdown",
      "metadata": {
        "colab_type": "text",
        "id": "8rYxmRYe2apO"
      },
      "source": [
        "### Summarizations\n",
        "`describe` shows a quick statistic\n",
        "summary of your data"
      ]
    },
    {
      "cell_type": "code",
      "metadata": {
        "pycharm": {
          "is_executing": false
        },
        "id": "RdIZRuSPYFG3",
        "colab_type": "code",
        "colab": {
          "base_uri": "https://localhost:8080/",
          "height": 0
        },
        "outputId": "fc302324-d84d-4768-c2c8-7aa3b3631e0f"
      },
      "source": [
        "df.describe()"
      ],
      "execution_count": 42,
      "outputs": [
        {
          "output_type": "execute_result",
          "data": {
            "text/html": [
              "<div>\n",
              "<style scoped>\n",
              "    .dataframe tbody tr th:only-of-type {\n",
              "        vertical-align: middle;\n",
              "    }\n",
              "\n",
              "    .dataframe tbody tr th {\n",
              "        vertical-align: top;\n",
              "    }\n",
              "\n",
              "    .dataframe thead th {\n",
              "        text-align: right;\n",
              "    }\n",
              "</style>\n",
              "<table border=\"1\" class=\"dataframe\">\n",
              "  <thead>\n",
              "    <tr style=\"text-align: right;\">\n",
              "      <th></th>\n",
              "      <th>log2FC</th>\n",
              "      <th>pval</th>\n",
              "    </tr>\n",
              "  </thead>\n",
              "  <tbody>\n",
              "    <tr>\n",
              "      <th>count</th>\n",
              "      <td>6.000000</td>\n",
              "      <td>6.000000</td>\n",
              "    </tr>\n",
              "    <tr>\n",
              "      <th>mean</th>\n",
              "      <td>-0.060000</td>\n",
              "      <td>0.211667</td>\n",
              "    </tr>\n",
              "    <tr>\n",
              "      <th>std</th>\n",
              "      <td>2.625262</td>\n",
              "      <td>0.275856</td>\n",
              "    </tr>\n",
              "    <tr>\n",
              "      <th>min</th>\n",
              "      <td>-3.500000</td>\n",
              "      <td>0.010000</td>\n",
              "    </tr>\n",
              "    <tr>\n",
              "      <th>25%</th>\n",
              "      <td>-1.750000</td>\n",
              "      <td>0.015000</td>\n",
              "    </tr>\n",
              "    <tr>\n",
              "      <th>50%</th>\n",
              "      <td>-0.030000</td>\n",
              "      <td>0.075000</td>\n",
              "    </tr>\n",
              "    <tr>\n",
              "      <th>75%</th>\n",
              "      <td>1.360000</td>\n",
              "      <td>0.352500</td>\n",
              "    </tr>\n",
              "    <tr>\n",
              "      <th>max</th>\n",
              "      <td>3.700000</td>\n",
              "      <td>0.670000</td>\n",
              "    </tr>\n",
              "  </tbody>\n",
              "</table>\n",
              "</div>"
            ],
            "text/plain": [
              "         log2FC      pval\n",
              "count  6.000000  6.000000\n",
              "mean  -0.060000  0.211667\n",
              "std    2.625262  0.275856\n",
              "min   -3.500000  0.010000\n",
              "25%   -1.750000  0.015000\n",
              "50%   -0.030000  0.075000\n",
              "75%    1.360000  0.352500\n",
              "max    3.700000  0.670000"
            ]
          },
          "metadata": {
            "tags": []
          },
          "execution_count": 42
        }
      ]
    },
    {
      "cell_type": "markdown",
      "metadata": {
        "colab_type": "text",
        "id": "90VSO5582apS"
      },
      "source": [
        "`info` provides a concise summary of a DataFrame"
      ]
    },
    {
      "cell_type": "code",
      "metadata": {
        "pycharm": {
          "is_executing": false
        },
        "tags": [],
        "id": "0dP_WZ7fYFG7",
        "colab_type": "code",
        "colab": {
          "base_uri": "https://localhost:8080/",
          "height": 0
        },
        "outputId": "5ee98825-4bee-4211-fddb-1875467fd1ca"
      },
      "source": [
        "df.info()"
      ],
      "execution_count": 43,
      "outputs": [
        {
          "output_type": "stream",
          "text": [
            "<class 'pandas.core.frame.DataFrame'>\n",
            "RangeIndex: 6 entries, 0 to 5\n",
            "Data columns (total 3 columns):\n",
            " #   Column  Non-Null Count  Dtype  \n",
            "---  ------  --------------  -----  \n",
            " 0   gene    6 non-null      object \n",
            " 1   log2FC  6 non-null      float64\n",
            " 2   pval    6 non-null      float64\n",
            "dtypes: float64(2), object(1)\n",
            "memory usage: 272.0+ bytes\n"
          ],
          "name": "stdout"
        }
      ]
    },
    {
      "cell_type": "markdown",
      "metadata": {
        "colab_type": "text",
        "id": "O19TbeqQ2apV"
      },
      "source": [
        "## Input and Output\n",
        "How do you get data into and out of Pandas as spreadsheets?\n",
        " - Pandas can work with CSV (comma separated values) file.\n",
        " - CSV stores plain text in a tabular form\n",
        " - CSV files may have a header\n",
        " - You can use a variety of different field delimiters (rather than a ‘comma’). Check which delimiter your file is using before import!\n",
        " \n",
        "__Import to Pandas__  \n",
        " > `df = pd.read_csv('data.csv', sep='\\t', header=0)`\n",
        "\n",
        "For Excel files, it's the same thing but with read_excel\n",
        "\n",
        "__Export to text file__  \n",
        " > `df.to_csv('data.csv', sep='\\t', header=True, index=False)`\n",
        " \n",
        "The values of header and index depend on if you want to print the column and/or row names"
      ]
    },
    {
      "cell_type": "markdown",
      "metadata": {
        "id": "N4ugqvJ4YFG_",
        "colab_type": "text"
      },
      "source": [
        "### <img src=\"https://img.icons8.com/color/96/000000/deadlift.png\" style=\"height:50px;display:inline\"> Exercise 2\n",
        "\n",
        "Create a random nd-array of shape $a \\in \\mathcal{R}^{3 \\times 3}$ and convert it to pandas DataFrame with the follwing columns: \"Error\", \"Mean\", \"STD\" (you don't need to calculate them, the numbers do not matter)"
      ]
    },
    {
      "cell_type": "code",
      "metadata": {
        "pycharm": {
          "is_executing": false
        },
        "id": "E19afxTJYFG_",
        "colab_type": "code",
        "colab": {
          "base_uri": "https://localhost:8080/",
          "height": 142
        },
        "outputId": "fa4a2efc-a467-4f23-b45e-aa0da5341e45"
      },
      "source": [
        "a = np.random.randn(3,3)\n",
        "a = pd.DataFrame(a, columns= [\"Error\", \"Mean\", \"STD\"])\n",
        "a"
      ],
      "execution_count": 44,
      "outputs": [
        {
          "output_type": "execute_result",
          "data": {
            "text/html": [
              "<div>\n",
              "<style scoped>\n",
              "    .dataframe tbody tr th:only-of-type {\n",
              "        vertical-align: middle;\n",
              "    }\n",
              "\n",
              "    .dataframe tbody tr th {\n",
              "        vertical-align: top;\n",
              "    }\n",
              "\n",
              "    .dataframe thead th {\n",
              "        text-align: right;\n",
              "    }\n",
              "</style>\n",
              "<table border=\"1\" class=\"dataframe\">\n",
              "  <thead>\n",
              "    <tr style=\"text-align: right;\">\n",
              "      <th></th>\n",
              "      <th>Error</th>\n",
              "      <th>Mean</th>\n",
              "      <th>STD</th>\n",
              "    </tr>\n",
              "  </thead>\n",
              "  <tbody>\n",
              "    <tr>\n",
              "      <th>0</th>\n",
              "      <td>0.394321</td>\n",
              "      <td>0.559258</td>\n",
              "      <td>0.280418</td>\n",
              "    </tr>\n",
              "    <tr>\n",
              "      <th>1</th>\n",
              "      <td>-0.514328</td>\n",
              "      <td>-0.200711</td>\n",
              "      <td>-0.221899</td>\n",
              "    </tr>\n",
              "    <tr>\n",
              "      <th>2</th>\n",
              "      <td>0.244845</td>\n",
              "      <td>-0.510772</td>\n",
              "      <td>-0.187785</td>\n",
              "    </tr>\n",
              "  </tbody>\n",
              "</table>\n",
              "</div>"
            ],
            "text/plain": [
              "      Error      Mean       STD\n",
              "0  0.394321  0.559258  0.280418\n",
              "1 -0.514328 -0.200711 -0.221899\n",
              "2  0.244845 -0.510772 -0.187785"
            ]
          },
          "metadata": {
            "tags": []
          },
          "execution_count": 44
        }
      ]
    },
    {
      "cell_type": "markdown",
      "metadata": {
        "id": "9q-Y1S4LYFHD",
        "colab_type": "text"
      },
      "source": [
        "## <img src=\"https://img.icons8.com/dusk/64/000000/area-chart.png\" style=\"height:50px;display:inline\"> MatPlotLib\n",
        "\n",
        "A 2D plotting library which produces publication quality figures.\n",
        " - Can be used to generate plots, histograms, power spectra, bar charts, errorcharts, scatterplots, etc.\n"
      ]
    },
    {
      "cell_type": "code",
      "metadata": {
        "pycharm": {
          "is_executing": false
        },
        "id": "559rNw6QYFHD",
        "colab_type": "code",
        "colab": {}
      },
      "source": [
        "# import matplotlib\n",
        "import matplotlib.pyplot as plt"
      ],
      "execution_count": 45,
      "outputs": []
    },
    {
      "cell_type": "markdown",
      "metadata": {
        "colab_type": "text",
        "id": "JU4i6qIk2aqj"
      },
      "source": [
        "## Line Plots"
      ]
    },
    {
      "cell_type": "markdown",
      "metadata": {
        "colab_type": "text",
        "id": "lLE2bOLV2aqk"
      },
      "source": [
        "### Plot Against Indices"
      ]
    },
    {
      "cell_type": "code",
      "metadata": {
        "pycharm": {
          "is_executing": false
        },
        "id": "2WsucuqKYFHI",
        "colab_type": "code",
        "colab": {
          "base_uri": "https://localhost:8080/",
          "height": 367
        },
        "outputId": "4a742905-d55a-42a0-c662-c4f675130c1c"
      },
      "source": [
        "x = np.arange(50) * 2 * np.pi / 50\n",
        "y = np.sin(x)\n",
        "fig = plt.figure(figsize=(8, 5)) # create a figure, just like in matlab\n",
        "ax = fig.add_subplot(1, 1 ,1) # create a subplot of certain size\n",
        "ax.plot(y, label=\"y = sin(x)\")\n",
        "ax.set_xlabel('index')\n",
        "ax.set_ylabel(\"sin(x)\")\n",
        "ax.set_title(\"sin(x)\")\n",
        "ax.grid()\n",
        "ax.legend()"
      ],
      "execution_count": 46,
      "outputs": [
        {
          "output_type": "execute_result",
          "data": {
            "text/plain": [
              "<matplotlib.legend.Legend at 0x7fe95e7a2630>"
            ]
          },
          "metadata": {
            "tags": []
          },
          "execution_count": 46
        },
        {
          "output_type": "display_data",
          "data": {
            "image/png": "[encoded data removed]",
            "text/plain": [
              "<Figure size 576x360 with 1 Axes>"
            ]
          },
          "metadata": {
            "tags": [],
            "needs_background": "light"
          }
        }
      ]
    },
    {
      "cell_type": "markdown",
      "metadata": {
        "colab_type": "text",
        "id": "jWP09PPq2aqs"
      },
      "source": [
        "### Multiple Lines"
      ]
    },
    {
      "cell_type": "code",
      "metadata": {
        "pycharm": {
          "is_executing": false
        },
        "id": "v2G3afXrYFHM",
        "colab_type": "code",
        "colab": {
          "base_uri": "https://localhost:8080/",
          "height": 367
        },
        "outputId": "c83bdf10-6ab2-4557-ecbb-3ea2b2c1b20a"
      },
      "source": [
        "x2 = np.arange(50) * 2 * np.pi / 25\n",
        "y2 = np.sin(x2)\n",
        "fig = plt.figure(figsize=(8, 5)) # create a figure, just like in matlab\n",
        "ax = fig.add_subplot(1, 1 ,1) # create a subplot of certain size\n",
        "ax.plot(y, label=\"y1 = sin(x1)\")\n",
        "ax.plot(y2, 'r-^', label=\"y2 = sin(x2)\")\n",
        "ax.set_xlabel('index')\n",
        "ax.set_ylabel(\"sin(x)\")\n",
        "ax.set_title(\"sin(x)\")\n",
        "ax.grid()\n",
        "ax.legend()"
      ],
      "execution_count": 47,
      "outputs": [
        {
          "output_type": "execute_result",
          "data": {
            "text/plain": [
              "<matplotlib.legend.Legend at 0x7fe95e6e92e8>"
            ]
          },
          "metadata": {
            "tags": []
          },
          "execution_count": 47
        },
        {
          "output_type": "display_data",
          "data": {
            "image/png": "[encoded data removed]",
            "text/plain": [
              "<Figure size 576x360 with 1 Axes>"
            ]
          },
          "metadata": {
            "tags": [],
            "needs_background": "light"
          }
        }
      ]
    },
    {
      "cell_type": "markdown",
      "metadata": {
        "colab_type": "text",
        "id": "HOfPan8W2arb"
      },
      "source": [
        "### Scatter Plots"
      ]
    },
    {
      "cell_type": "code",
      "metadata": {
        "pycharm": {
          "is_executing": false
        },
        "id": "GQAtvlpfYFHP",
        "colab_type": "code",
        "colab": {
          "base_uri": "https://localhost:8080/",
          "height": 367
        },
        "outputId": "806c197b-2099-4d4c-f786-26b231b0cabe"
      },
      "source": [
        "x = np.arange(50) * 2 * np.pi / 50\n",
        "y = np.sin(x)\n",
        "fig = plt.figure(figsize=(8, 5)) # create a figure, just like in matlab\n",
        "ax = fig.add_subplot(1, 1 ,1) # create a subplot of certain size\n",
        "ax.scatter(x, y, label=\"y = sin(x)\")\n",
        "ax.set_xlabel('index')\n",
        "ax.set_ylabel(\"sin(x)\")\n",
        "ax.set_title(\"scatter sin(x)\")\n",
        "ax.grid()\n",
        "ax.legend()"
      ],
      "execution_count": 48,
      "outputs": [
        {
          "output_type": "execute_result",
          "data": {
            "text/plain": [
              "<matplotlib.legend.Legend at 0x7fe96d8b4278>"
            ]
          },
          "metadata": {
            "tags": []
          },
          "execution_count": 48
        },
        {
          "output_type": "display_data",
          "data": {
            "image/png": "[encoded data removed]",
            "text/plain": [
              "<Figure size 576x360 with 1 Axes>"
            ]
          },
          "metadata": {
            "tags": [],
            "needs_background": "light"
          }
        }
      ]
    },
    {
      "cell_type": "markdown",
      "metadata": {
        "colab_type": "text",
        "id": "TvWvh-rk2arj"
      },
      "source": [
        "### Bar Plots"
      ]
    },
    {
      "cell_type": "code",
      "metadata": {
        "pycharm": {
          "is_executing": false
        },
        "id": "d1xpQ98LYFHV",
        "colab_type": "code",
        "colab": {
          "base_uri": "https://localhost:8080/",
          "height": 585
        },
        "outputId": "a11eafe0-80c9-4377-d13e-bf75ab1edeee"
      },
      "source": [
        "fig = plt.figure(figsize=(10, 8)) # create a figure, just like in matlab\n",
        "ax1 = fig.add_subplot(2, 1 ,1) # create a subplot of certain size\n",
        "ax1.bar(x, y)\n",
        "ax1.set_xlabel('x')\n",
        "ax1.set_ylabel(\"y\")\n",
        "ax1.set_title(\"bar plot\")\n",
        "ax1.grid()\n",
        "\n",
        "ax2 = fig.add_subplot(2, 1 ,2) # create a subplot of certain size\n",
        "ax2.barh(x, y, height=x[1]-x[0])\n",
        "ax2.set_xlabel('x')\n",
        "ax2.set_ylabel(\"y\")\n",
        "ax2.set_title(\"barh plot\")\n",
        "ax2.grid()\n",
        "\n",
        "plt.tight_layout()"
      ],
      "execution_count": 49,
      "outputs": [
        {
          "output_type": "display_data",
          "data": {
            "image/png": "[encoded data removed]",
            "text/plain": [
              "<Figure size 720x576 with 2 Axes>"
            ]
          },
          "metadata": {
            "tags": [],
            "needs_background": "light"
          }
        }
      ]
    },
    {
      "cell_type": "markdown",
      "metadata": {
        "colab_type": "text",
        "id": "v5vzWO4h2arn"
      },
      "source": [
        "### Histogram"
      ]
    },
    {
      "cell_type": "code",
      "metadata": {
        "pycharm": {
          "is_executing": false
        },
        "scrolled": true,
        "id": "tHN4uebFYFHY",
        "colab_type": "code",
        "colab": {
          "base_uri": "https://localhost:8080/",
          "height": 336
        },
        "outputId": "104e2e2a-9b14-4c15-b7c7-6b12627e3a86"
      },
      "source": [
        "fig = plt.figure(figsize=(8, 5)) # create a figure, just like in matlab\n",
        "ax = fig.add_subplot(1, 1 ,1) # create a subplot of certain size\n",
        "ax.hist(np.random.randn(1000), 30) # 30 is the number of bins\n",
        "ax.set_title(\"histogram\")\n",
        "ax.grid()"
      ],
      "execution_count": 50,
      "outputs": [
        {
          "output_type": "display_data",
          "data": {
            "image/png": "[encoded data removed]",
            "text/plain": [
              "<Figure size 576x360 with 1 Axes>"
            ]
          },
          "metadata": {
            "tags": [],
            "needs_background": "light"
          }
        }
      ]
    },
    {
      "cell_type": "markdown",
      "metadata": {
        "id": "4O5asbXiYFHa",
        "colab_type": "text"
      },
      "source": [
        "### <img src=\"https://img.icons8.com/color/96/000000/deadlift.png\" style=\"height:50px;display:inline\"> Exercise 3\n",
        "\n",
        "Create 1000 values using `linspace` and plot $tan(x)$ both as `plot` and `scatter` as 2 different subplots"
      ]
    },
    {
      "cell_type": "code",
      "metadata": {
        "pycharm": {
          "is_executing": false
        },
        "tags": [],
        "id": "uVT07chTYFHa",
        "colab_type": "code",
        "colab": {
          "base_uri": "https://localhost:8080/",
          "height": 949
        },
        "outputId": "a8c21d12-aaeb-40fa-e514-6a3b0642287f"
      },
      "source": [
        "x = np.linspace(-1.5,1.5,1000)\n",
        "y = np.tan(x)\n",
        "fig = plt.figure(figsize=(20, 16)) # create a figure, just like in matlab\n",
        "ax = fig.add_subplot(2, 1 ,1) # create a subplot of certain size\n",
        "ax.plot(y, label=\"y = sin(x)\")\n",
        "ax.set_xlabel('index')\n",
        "ax.set_ylabel(\"tan(x)\")\n",
        "ax.grid()\n",
        "ax.legend()\n",
        "# ax.set_title(\"sin(x)\")\n",
        "x2 = np.linspace(-1.5,1.5,1000)\n",
        "y2 = np.tan(x2)\n",
        "ax2 = fig.add_subplot(2, 1 ,2) # create a subplot of certain size\n",
        "ax2.scatter(x2, y2, label=\"y = tan(x)\")\n",
        "ax2.set_xlabel('index')\n",
        "ax2.set_ylabel(\"sin(x)\")\n",
        "ax2.set_title(\"scatter tan(x)\")\n",
        "ax2.grid()\n",
        "ax2.legend()"
      ],
      "execution_count": 52,
      "outputs": [
        {
          "output_type": "execute_result",
          "data": {
            "text/plain": [
              "<matplotlib.legend.Legend at 0x7fe95b5d3908>"
            ]
          },
          "metadata": {
            "tags": []
          },
          "execution_count": 52
        },
        {
          "output_type": "display_data",
          "data": {
            "image/png": "[encoded data removed]",
            "text/plain": [
              "<Figure size 1440x1152 with 2 Axes>"
            ]
          },
          "metadata": {
            "tags": [],
            "needs_background": "light"
          }
        }
      ]
    },
    {
      "cell_type": "markdown",
      "metadata": {
        "id": "2X3fmorSYFHe",
        "colab_type": "text"
      },
      "source": [
        "## <img src=\"https://img.icons8.com/cotton/64/000000/artificial-intelligence.png\" style=\"height:50px;display:inline\"> Scikit-Learn\n",
        "\n",
        "Scikit-learn is an open source machine learning library for Python.  \n",
        "\n",
        "Data Representation in Scikit-learn:\n",
        " - Most algorithms expect a two-dimensional array, of shape (n_samples,n_features).\n",
        " - The arrays can be either NumPy arrays, or in some cases scipy.sparse matrices.\n",
        "   - The number of features must be fixed in advance.\n",
        "   \n",
        " \n",
        "Code samples:\n",
        "> \n",
        "``from sklearn import svm\n",
        "clf = svm.SVC()\n",
        "clf.fit(X_train, y_train)\n",
        "y_pred = clf.predict(X_test)``\n",
        "\n",
        "Classification:\n",
        ">``y_pred = model.predict(X_test)``\n",
        "\n",
        "Filters, dimension reduction, latent variables:\n",
        ">``X_new = model.transform(X_test)``\n",
        "\n",
        "Incremental learning:\n",
        ">``model.partial_fir(X_train, y_train)``\n",
        "\n",
        "---\n",
        "\n",
        "The [scikit-learn website](http://scikit-learn.org/stable/) has great tutorials for using their library  \n",
        "---\n",
        "The [preprocessing](http://scikit-learn.org/stable/modules/preprocessing.html#preprocessing) page has information that is very relevant for the second exercise.\n",
        "\n",
        "A more interfactive tutorial introducing scikit-learn can be found [here](https://www.datacamp.com/community/tutorials/machine-learning-python#gs.Ae7Ua_Y)."
      ]
    },
    {
      "cell_type": "code",
      "metadata": {
        "pycharm": {
          "is_executing": false
        },
        "id": "8KeEmgQNYFHe",
        "colab_type": "code",
        "colab": {}
      },
      "source": [
        "# import sklearn\n",
        "import sklearn"
      ],
      "execution_count": 54,
      "outputs": []
    },
    {
      "cell_type": "markdown",
      "metadata": {
        "id": "euNSi4j9YFHh",
        "colab_type": "text"
      },
      "source": [
        "### Example - The Digits Dataset\n",
        "(Taken from https://scikit-learn.org/stable/tutorial/basic/tutorial.html)\n",
        "\n",
        "#### Loading the Data\n",
        "A dataset is a dictionary-like object that holds all the data and some metadata about the data. This data is stored in the `.data` member, which is a `n_samples, n_features` array. In the case of supervised problem, one or more response variables are stored in the `.target` member. More details on the different datasets can be found in the dedicated section."
      ]
    },
    {
      "cell_type": "code",
      "metadata": {
        "pycharm": {
          "is_executing": false
        },
        "id": "4bQqn-hwYFHi",
        "colab_type": "code",
        "colab": {}
      },
      "source": [
        "# import dataset\n",
        "from sklearn import datasets\n",
        "digits = datasets.load_digits()"
      ],
      "execution_count": 55,
      "outputs": []
    },
    {
      "cell_type": "markdown",
      "metadata": {
        "id": "IPo7PqzEYFHk",
        "colab_type": "text"
      },
      "source": [
        "For instance, in the case of the digits dataset, `digits.data` gives access to the features that can be used to classify the digits samples:"
      ]
    },
    {
      "cell_type": "code",
      "metadata": {
        "pycharm": {
          "is_executing": false
        },
        "id": "NzwXmWSIYFHl",
        "colab_type": "code",
        "colab": {
          "base_uri": "https://localhost:8080/",
          "height": 136
        },
        "outputId": "a32ad8ab-a183-42f5-8fa7-bed7fcfde2a4"
      },
      "source": [
        "print(digits.data)"
      ],
      "execution_count": 56,
      "outputs": [
        {
          "output_type": "stream",
          "text": [
            "[[ 0.  0.  5. ...  0.  0.  0.]\n",
            " [ 0.  0.  0. ... 10.  0.  0.]\n",
            " [ 0.  0.  0. ... 16.  9.  0.]\n",
            " ...\n",
            " [ 0.  0.  1. ...  6.  0.  0.]\n",
            " [ 0.  0.  2. ... 12.  0.  0.]\n",
            " [ 0.  0. 10. ... 12.  1.  0.]]\n"
          ],
          "name": "stdout"
        }
      ]
    },
    {
      "cell_type": "markdown",
      "metadata": {
        "id": "yRE5bMnzYFHo",
        "colab_type": "text"
      },
      "source": [
        "and `digits.target` gives the ground truth for the digit dataset, that is the number corresponding to each digit image that we are trying to learn:"
      ]
    },
    {
      "cell_type": "code",
      "metadata": {
        "pycharm": {
          "is_executing": false
        },
        "id": "H_u0YpfeYFHo",
        "colab_type": "code",
        "colab": {
          "base_uri": "https://localhost:8080/",
          "height": 34
        },
        "outputId": "9f4f03f2-a489-41be-f928-173d3d83676e"
      },
      "source": [
        "print(digits.target)"
      ],
      "execution_count": 57,
      "outputs": [
        {
          "output_type": "stream",
          "text": [
            "[0 1 2 ... 8 9 8]\n"
          ],
          "name": "stdout"
        }
      ]
    },
    {
      "cell_type": "markdown",
      "metadata": {
        "id": "rsrjigvIYFHr",
        "colab_type": "text"
      },
      "source": [
        "Shape of the data arrays\n",
        "\n",
        "The data is always a 2D array, shape `(n_samples, n_features)`, although the original data may have had a different shape. In the case of the digits, each original sample is an image of shape `(8, 8)` and can be accessed using: `digits.images`"
      ]
    },
    {
      "cell_type": "code",
      "metadata": {
        "pycharm": {
          "is_executing": false
        },
        "id": "XUG9wgsOYFHs",
        "colab_type": "code",
        "colab": {
          "base_uri": "https://localhost:8080/",
          "height": 353
        },
        "outputId": "ca8b1f1c-e3df-4493-f925-c4549ba4e3fc"
      },
      "source": [
        "fig = plt.figure(figsize=(8, 5)) # create a figure, just like in matlab\n",
        "ax = fig.add_subplot(1, 1 ,1) # create a subplot of certain size\n",
        "ax.imshow(digits.images[0])\n",
        "ax.set_title(\"digits.image[0]\")"
      ],
      "execution_count": 58,
      "outputs": [
        {
          "output_type": "execute_result",
          "data": {
            "text/plain": [
              "Text(0.5, 1.0, 'digits.image[0]')"
            ]
          },
          "metadata": {
            "tags": []
          },
          "execution_count": 58
        },
        {
          "output_type": "display_data",
          "data": {
            "image/png": "[encoded data removed]",
            "text/plain": [
              "<Figure size 576x360 with 1 Axes>"
            ]
          },
          "metadata": {
            "tags": [],
            "needs_background": "light"
          }
        }
      ]
    },
    {
      "cell_type": "markdown",
      "metadata": {
        "id": "QUAd7r99YFHu",
        "colab_type": "text"
      },
      "source": [
        "#### Learning and Predicting\n",
        "\n",
        "In the case of the digits dataset, the task is to predict, given an image, which digit it represents. We are given samples of each of the 10 possible classes (the digits zero through nine) on which we fit an estimator to be able to predict the classes to which unseen samples belong.\n",
        "\n",
        "In scikit-learn, an estimator for classification is a Python object that implements the methods `fit(X, y)` and `predict(T)`."
      ]
    },
    {
      "cell_type": "code",
      "metadata": {
        "pycharm": {
          "is_executing": false
        },
        "id": "RvC26PzQYFHv",
        "colab_type": "code",
        "colab": {
          "base_uri": "https://localhost:8080/",
          "height": 34
        },
        "outputId": "779e5c6b-3e10-433a-d0d6-eaf48fdcd11a"
      },
      "source": [
        "from sklearn.model_selection import train_test_split\n",
        "# split to train and test sets\n",
        "X_train, X_test, y_train, y_test = train_test_split(digits.data, digits.target, test_size=0.2)\n",
        "# fit a Naive Bayes Classifier\n",
        "from sklearn.naive_bayes import GaussianNB\n",
        "clf = GaussianNB()\n",
        "# train\n",
        "clf.fit(X_train, y_train)\n",
        "# predict\n",
        "y_pred = clf.predict(X_test)\n",
        "# cacluclate accuracy\n",
        "print(\"prediction accuracy: {:.3f}%\".format(np.mean(y_pred == y_test) * 100))"
      ],
      "execution_count": 59,
      "outputs": [
        {
          "output_type": "stream",
          "text": [
            "prediction accuracy: 79.722%\n"
          ],
          "name": "stdout"
        }
      ]
    },
    {
      "cell_type": "markdown",
      "metadata": {
        "id": "AXkKnadrYFHw",
        "colab_type": "text"
      },
      "source": [
        "### <img src=\"https://img.icons8.com/color/96/000000/deadlift.png\" style=\"height:50px;display:inline\"> Exercise 4\n",
        "\n",
        "Build a Multinomial Naive Bayes classifier using `MultinomialNB()` class from `sklearn` and check the accuracy."
      ]
    },
    {
      "cell_type": "code",
      "metadata": {
        "pycharm": {
          "is_executing": false
        },
        "id": "xh2UW24eYFHx",
        "colab_type": "code",
        "colab": {
          "base_uri": "https://localhost:8080/",
          "height": 34
        },
        "outputId": "da164a85-2465-49a5-a3d8-37365ca2ae85"
      },
      "source": [
        "from sklearn.model_selection import train_test_split\n",
        "from sklearn.naive_bayes import MultinomialNB\n",
        "\n",
        "# split to train and test sets\n",
        "X_train, X_test, y_train, y_test = train_test_split(digits.data, digits.target, test_size=0.2)\n",
        "\n",
        "clf = MultinomialNB()\n",
        "# train\n",
        "clf.fit(X_train, y_train)\n",
        "# predict\n",
        "y_pred = clf.predict(X_test)\n",
        "# cacluclate accuracy\n",
        "print(\"prediction accuracy: {:.3f}%\".format(np.mean(y_pred == y_test) * 100))"
      ],
      "execution_count": 60,
      "outputs": [
        {
          "output_type": "stream",
          "text": [
            "prediction accuracy: 91.389%\n"
          ],
          "name": "stdout"
        }
      ]
    },
    {
      "cell_type": "markdown",
      "metadata": {
        "id": "yoxbj6Q4YFHz",
        "colab_type": "text"
      },
      "source": [
        "## <img src=\"https://img.icons8.com/dusk/64/000000/prize.png\" style=\"height:50px;display:inline\"> Credits\n",
        "* Icons from <a href=\"https://icons8.com/\">Icon8.com</a> - https://icons8.com\n",
        "* Datasets from <a href=\"https://www.kaggle.com/\">Kaggle</a> - https://www.kaggle.com/\n",
        "* Notebook made by <a href=\"mailto:taldanielm@campus.technion.ac.il\">Tal Daniel</a> (August 2019)\n",
        "* Updates: Ron Amit (March 2020)"
      ]
    }
  ]
}