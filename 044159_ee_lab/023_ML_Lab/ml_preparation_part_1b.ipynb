{
  "nbformat": 4,
  "nbformat_minor": 0,
  "metadata": {
    "kernelspec": {
      "display_name": "Python 3",
      "language": "python",
      "name": "python3"
    },
    "language_info": {
      "codemirror_mode": {
        "name": "ipython",
        "version": 3
      },
      "file_extension": ".py",
      "mimetype": "text/x-python",
      "name": "python",
      "nbconvert_exporter": "python",
      "pygments_lexer": "ipython3",
      "version": "3.7.6"
    },
    "pycharm": {
      "stem_cell": {
        "cell_type": "raw",
        "metadata": {
          "collapsed": false
        },
        "source": []
      }
    },
    "colab": {
      "name": "ml_preparation_part_1b.ipynb",
      "provenance": [],
      "collapsed_sections": []
    }
  },
  "cells": [
    {
      "cell_type": "markdown",
      "metadata": {
        "id": "Hq5xVXHmy54r",
        "colab_type": "text"
      },
      "source": [
        "# <img src=\"https://img.icons8.com/dusk/64/000000/mind-map.png\" style=\"height:50px;display:inline\"> EE 044165/6 - Technion - Intro to Machine Learning Lab\n",
        "\n",
        "## Part 1 -  Preparation question\n"
      ]
    },
    {
      "cell_type": "markdown",
      "metadata": {
        "id": "PPYXpcS3y54s",
        "colab_type": "text"
      },
      "source": [
        "###  Get  raw data\n",
        "The data consisits of 3 text sections."
      ]
    },
    {
      "cell_type": "code",
      "metadata": {
        "pycharm": {
          "is_executing": false
        },
        "scrolled": true,
        "id": "flzwfHDoy54t",
        "colab_type": "code",
        "colab": {
          "base_uri": "https://localhost:8080/",
          "height": 89
        },
        "outputId": "437e8f25-f00f-400b-ec88-63e8aaa787ca"
      },
      "source": [
        "texts_raw = [\"Here is Edward Bear, coming downstairs now, bump, bump, bump, on the back of his head.\", \n",
        "         \"Sometimes Winnie-the-Pooh likes a game of some sort when he comes downstairs.\",\n",
        "         \"Winnie-the-Pooh sat down at the foot of the tree, put his head between his paws and began to think.\"]\n",
        "print(\"\\n Raw data: \\n\", texts_raw)\n",
        "n_texts = len(texts_raw)"
      ],
      "execution_count": null,
      "outputs": [
        {
          "output_type": "stream",
          "text": [
            "\n",
            " Raw data: \n",
            " ['Here is Edward Bear, coming downstairs now, bump, bump, bump, on the back of his head.', 'Sometimes Winnie-the-Pooh likes a game of some sort when he comes downstairs.', 'Winnie-the-Pooh sat down at the foot of the tree, put his head between his paws and began to think.']\n"
          ],
          "name": "stdout"
        }
      ]
    },
    {
      "cell_type": "markdown",
      "metadata": {
        "id": "S9__-spky54z",
        "colab_type": "text"
      },
      "source": [
        "### Cleaning up\n",
        "lest's get rid of punctuation characters."
      ]
    },
    {
      "cell_type": "code",
      "metadata": {
        "id": "bYZq_QIby540",
        "colab_type": "code",
        "colab": {
          "base_uri": "https://localhost:8080/",
          "height": 107
        },
        "outputId": "25981e17-bec9-4da6-9e0f-4c62b38575e0"
      },
      "source": [
        "import string\n",
        "\n",
        "print('punctuation symbols to be removed: ', string.punctuation)\n",
        "\n",
        "texts_strings = []\n",
        "\n",
        "for txt_str in texts_raw:\n",
        "    # remove punctuations\n",
        "    for char in string.punctuation:\n",
        "        txt_str = txt_str.replace(char, ' ')\n",
        "    texts_strings.append(txt_str)\n",
        "\n",
        "print('\\n Cleaned texts: \\n', texts_strings)"
      ],
      "execution_count": null,
      "outputs": [
        {
          "output_type": "stream",
          "text": [
            "punctuation symbols to be removed:  !\"#$%&'()*+,-./:;<=>?@[\\]^_`{|}~\n",
            "\n",
            " Cleaned texts: \n",
            " ['Here is Edward Bear  coming downstairs now  bump  bump  bump  on the back of his head ', 'Sometimes Winnie the Pooh likes a game of some sort when he comes downstairs ', 'Winnie the Pooh sat down at the foot of the tree  put his head between his paws and began to think ']\n"
          ],
          "name": "stdout"
        }
      ]
    },
    {
      "cell_type": "markdown",
      "metadata": {
        "id": "qghYchAXy543",
        "colab_type": "text"
      },
      "source": [
        "###  Split into words"
      ]
    },
    {
      "cell_type": "code",
      "metadata": {
        "pycharm": {
          "is_executing": false
        },
        "id": "9SvoBAPNy544",
        "colab_type": "code",
        "colab": {
          "base_uri": "https://localhost:8080/",
          "height": 89
        },
        "outputId": "4842bda7-e2c1-45fd-f56b-68d6cfdb4ce2"
      },
      "source": [
        "texts_words_lists = []\n",
        "\n",
        "for txt_str in texts_strings:\n",
        "    # split into words\n",
        "    texts_words_lists.append(txt_str.split())\n",
        "\n",
        "print(\"\\n Texts in word list format: \\n\", texts_words_lists)"
      ],
      "execution_count": null,
      "outputs": [
        {
          "output_type": "stream",
          "text": [
            "\n",
            " Texts in word list format: \n",
            " [['Here', 'is', 'Edward', 'Bear', 'coming', 'downstairs', 'now', 'bump', 'bump', 'bump', 'on', 'the', 'back', 'of', 'his', 'head'], ['Sometimes', 'Winnie', 'the', 'Pooh', 'likes', 'a', 'game', 'of', 'some', 'sort', 'when', 'he', 'comes', 'downstairs'], ['Winnie', 'the', 'Pooh', 'sat', 'down', 'at', 'the', 'foot', 'of', 'the', 'tree', 'put', 'his', 'head', 'between', 'his', 'paws', 'and', 'began', 'to', 'think']]\n"
          ],
          "name": "stdout"
        }
      ]
    },
    {
      "cell_type": "markdown",
      "metadata": {
        "id": "PATpmfT9y547",
        "colab_type": "text"
      },
      "source": [
        "###  Create vocabulary dictionary\n"
      ]
    },
    {
      "cell_type": "code",
      "metadata": {
        "pycharm": {
          "is_executing": false
        },
        "id": "qfA8WNZSy548",
        "colab_type": "code",
        "colab": {
          "base_uri": "https://localhost:8080/",
          "height": 176
        },
        "outputId": "9f58de2d-7a51-4a04-b441-fec22007295b"
      },
      "source": [
        "from collections import Counter\n",
        "\n",
        "# concatenate all word lists\n",
        "all_word_list = sum(texts_words_lists, [])\n",
        "\n",
        "all_wordCounter = Counter(all_word_list)\n",
        "print(\"\\n All texts word counter: \\n\", all_wordCounter)\n",
        "\n",
        "vocabulary_list = list(all_wordCounter.keys())\n",
        "print(\"\\n vocabulary list: \\n\", vocabulary_list)\n",
        "\n",
        "vocabulary_size = len(vocabulary_list)\n",
        "print(\"\\n Vocabulary size:\", vocabulary_size)"
      ],
      "execution_count": null,
      "outputs": [
        {
          "output_type": "stream",
          "text": [
            "\n",
            " All texts word counter: \n",
            " Counter({'the': 5, 'bump': 3, 'of': 3, 'his': 3, 'downstairs': 2, 'head': 2, 'Winnie': 2, 'Pooh': 2, 'Here': 1, 'is': 1, 'Edward': 1, 'Bear': 1, 'coming': 1, 'now': 1, 'on': 1, 'back': 1, 'Sometimes': 1, 'likes': 1, 'a': 1, 'game': 1, 'some': 1, 'sort': 1, 'when': 1, 'he': 1, 'comes': 1, 'sat': 1, 'down': 1, 'at': 1, 'foot': 1, 'tree': 1, 'put': 1, 'between': 1, 'paws': 1, 'and': 1, 'began': 1, 'to': 1, 'think': 1})\n",
            "\n",
            " vocabulary list: \n",
            " ['Here', 'is', 'Edward', 'Bear', 'coming', 'downstairs', 'now', 'bump', 'on', 'the', 'back', 'of', 'his', 'head', 'Sometimes', 'Winnie', 'Pooh', 'likes', 'a', 'game', 'some', 'sort', 'when', 'he', 'comes', 'sat', 'down', 'at', 'foot', 'tree', 'put', 'between', 'paws', 'and', 'began', 'to', 'think']\n",
            "\n",
            " Vocabulary size: 37\n"
          ],
          "name": "stdout"
        }
      ]
    },
    {
      "cell_type": "markdown",
      "metadata": {
        "id": "Cfc0Ecady54_",
        "colab_type": "text"
      },
      "source": [
        "###  Create data matrix"
      ]
    },
    {
      "cell_type": "code",
      "metadata": {
        "pycharm": {
          "is_executing": false
        },
        "id": "xZZH2KWTy55A",
        "colab_type": "code",
        "colab": {
          "base_uri": "https://localhost:8080/",
          "height": 228
        },
        "outputId": "68541da4-413f-477d-faa3-b584f409ef5e"
      },
      "source": [
        "###  Create data matrix\n",
        "import numpy as np\n",
        "\n",
        "\n",
        "def create_data_mat(texts_words_lists, vocabulary_list):\n",
        "    n_texts = len(texts_words_lists)\n",
        "    vocabulary_size = len(vocabulary_list)\n",
        "    \n",
        "    X = np.zeros((n_texts, vocabulary_size), dtype=int)\n",
        "    \n",
        "    for i_text in range(n_texts):\n",
        "        wordCounter = Counter(texts_words_lists[i_text])\n",
        "        #print('\\n wordCounter: \\n', wordCounter)\n",
        "        for i_word in range(vocabulary_size):    \n",
        "            word = vocabulary_list[i_word]  \n",
        "           # print('\\n word: ', word)\n",
        "            \"\"\"\n",
        "            Your Code Here\n",
        "            \"\"\"\n",
        "            X[i_text, i_word] = wordCounter[word];\n",
        "         \n",
        "            \n",
        "    return X\n",
        "\n",
        "\n",
        "X = create_data_mat(texts_words_lists, vocabulary_list)\n",
        "print('\\n Data matrix: \\n', X)\n",
        "print('\\n Vocabulary list: \\n', vocabulary_list)"
      ],
      "execution_count": null,
      "outputs": [
        {
          "output_type": "stream",
          "text": [
            "\n",
            " Data matrix: \n",
            " [[1 1 1 1 1 1 1 3 1 1 1 1 1 1 0 0 0 0 0 0 0 0 0 0 0 0 0 0 0 0 0 0 0 0 0 0\n",
            "  0]\n",
            " [0 0 0 0 0 1 0 0 0 1 0 1 0 0 1 1 1 1 1 1 1 1 1 1 1 0 0 0 0 0 0 0 0 0 0 0\n",
            "  0]\n",
            " [0 0 0 0 0 0 0 0 0 3 0 1 2 1 0 1 1 0 0 0 0 0 0 0 0 1 1 1 1 1 1 1 1 1 1 1\n",
            "  1]]\n",
            "\n",
            " Vocabulary list: \n",
            " ['Here', 'is', 'Edward', 'Bear', 'coming', 'downstairs', 'now', 'bump', 'on', 'the', 'back', 'of', 'his', 'head', 'Sometimes', 'Winnie', 'Pooh', 'likes', 'a', 'game', 'some', 'sort', 'when', 'he', 'comes', 'sat', 'down', 'at', 'foot', 'tree', 'put', 'between', 'paws', 'and', 'began', 'to', 'think']\n"
          ],
          "name": "stdout"
        }
      ]
    },
    {
      "cell_type": "markdown",
      "metadata": {
        "id": "o1lq8DKvy55D",
        "colab_type": "text"
      },
      "source": [
        "###  Pre-process: Threshold\n",
        "Keep only words that appear at least 3 times in total all texts."
      ]
    },
    {
      "cell_type": "code",
      "metadata": {
        "pycharm": {
          "is_executing": false
        },
        "id": "AAKJIcHNy55E",
        "colab_type": "code",
        "colab": {
          "base_uri": "https://localhost:8080/",
          "height": 156
        },
        "outputId": "0206d9d0-1dd1-4869-9940-dc0ca1071d1f"
      },
      "source": [
        "\n",
        "# Create the new vocabulary word list\n",
        "vocabulary_list_1 = []\n",
        "for word in vocabulary_list:\n",
        "    count = all_wordCounter[word]\n",
        "    \"\"\"\n",
        "    Your Code Here\n",
        "    \"\"\"\n",
        "    if  count > 2:\n",
        "         vocabulary_list_1.append(word)  \n",
        "\n",
        "vocabulary_size_1 = len(vocabulary_list_1)\n",
        "\n",
        "# Create new data matrix:\n",
        "X_1 = create_data_mat(texts_words_lists, vocabulary_list_1) # Ask to complete this:\n",
        "    \n",
        "\n",
        "print('\\n Data matrix after threshold pre-process: \\n', X_1)\n",
        "print('\\n Vocabulary list 1: \\n', vocabulary_list_1)"
      ],
      "execution_count": null,
      "outputs": [
        {
          "output_type": "stream",
          "text": [
            "\n",
            " Data matrix after threshold pre-process: \n",
            " [[3 1 1 1]\n",
            " [0 1 1 0]\n",
            " [0 3 1 2]]\n",
            "\n",
            " Vocabulary list 1: \n",
            " ['bump', 'the', 'of', 'his']\n"
          ],
          "name": "stdout"
        }
      ]
    },
    {
      "cell_type": "markdown",
      "metadata": {
        "id": "Txxilayqy55H",
        "colab_type": "text"
      },
      "source": [
        "###  Pre-process: tf-idf  style\n",
        "Keep only words that appear at least 2 times in total all texts and do not appear in all texts.\n",
        "\n",
        "Hint:  you can use the numpy functions:  [np.any](https://docs.scipy.org/doc/numpy/reference/generated/numpy.any.html)  or [np.all](https://docs.scipy.org/doc/numpy/reference/generated/numpy.all.html)"
      ]
    },
    {
      "cell_type": "code",
      "metadata": {
        "pycharm": {
          "is_executing": false,
          "name": "#%%\n"
        },
        "id": "E2QHCJ8iy55I",
        "colab_type": "code",
        "colab": {
          "base_uri": "https://localhost:8080/",
          "height": 156
        },
        "outputId": "a093923f-7131-47dd-d50b-277eba1c1c01"
      },
      "source": [
        "\n",
        "# Create the new vocabulary word list\n",
        "vocabulary_list_2 = []\n",
        "for i_word, word in enumerate(vocabulary_list):\n",
        "    count = all_wordCounter[word]\n",
        "    # print(\"\\n i_word = \", word)\n",
        "    \"\"\"\n",
        "    Your Code Here\n",
        "    \"\"\"\n",
        "    in_texts = 0\n",
        "    for i_text in range(n_texts):\n",
        "      if word in texts_words_lists[i_text]:\n",
        "        in_texts += 1\n",
        "    # word_missing = Counter(texts_words_lists[i_text]. [word])\n",
        "    if count > 1 and in_texts < 3 :\n",
        "        vocabulary_list_2.append(word)  \n",
        "\n",
        "\n",
        "vocabulary_size_2 = len(vocabulary_list_2)\n",
        "\n",
        "# Create new data matrix:\n",
        "X_2 = create_data_mat(texts_words_lists, vocabulary_list_2) \n",
        "    \n",
        "\n",
        "print('\\n Data matrix after tf-idf style pre-process: \\n', X_2)\n",
        "print('\\n Vocabulary list 2: \\n', vocabulary_list_2)"
      ],
      "execution_count": null,
      "outputs": [
        {
          "output_type": "stream",
          "text": [
            "\n",
            " Data matrix after tf-idf style pre-process: \n",
            " [[1 3 1 1 0 0]\n",
            " [1 0 0 0 1 1]\n",
            " [0 0 2 1 1 1]]\n",
            "\n",
            " Vocabulary list 2: \n",
            " ['downstairs', 'bump', 'his', 'head', 'Winnie', 'Pooh']\n"
          ],
          "name": "stdout"
        }
      ]
    },
    {
      "cell_type": "markdown",
      "metadata": {
        "id": "C0S7l28dy55L",
        "colab_type": "text"
      },
      "source": [
        "## <img src=\"https://img.icons8.com/dusk/64/000000/prize.png\" style=\"height:50px;display:inline\"> Credits\n",
        "* Notebook made by Ron Amit (March 2020)\n"
      ]
    }
  ]
}